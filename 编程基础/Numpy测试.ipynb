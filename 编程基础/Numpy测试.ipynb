{
 "cells": [
  {
   "cell_type": "markdown",
   "metadata": {},
   "source": [
    "# numpy基本操作"
   ]
  },
  {
   "cell_type": "code",
   "execution_count": 1,
   "metadata": {
    "collapsed": true
   },
   "outputs": [],
   "source": [
    "import numpy"
   ]
  },
  {
   "cell_type": "code",
   "execution_count": 17,
   "metadata": {},
   "outputs": [
    {
     "name": "stdout",
     "output_type": "stream",
     "text": [
      "[ 5 10 15 20]\n",
      "[[ 5 10 15]\n",
      " [20 25 30]]\n"
     ]
    }
   ],
   "source": [
    "vector = numpy.array([5,10,15,20])\n",
    "matrix = numpy.array([[5,10,15],[20,25,30]])\n",
    "print(vector)\n",
    "print(matrix)"
   ]
  },
  {
   "cell_type": "code",
   "execution_count": 19,
   "metadata": {},
   "outputs": [
    {
     "name": "stdout",
     "output_type": "stream",
     "text": [
      "(4,)\n",
      "(2, 3)\n"
     ]
    }
   ],
   "source": [
    "print(vector.shape)\n",
    "print(matrix.shape)"
   ]
  },
  {
   "cell_type": "code",
   "execution_count": 21,
   "metadata": {},
   "outputs": [
    {
     "data": {
      "text/plain": [
       "dtype('float64')"
      ]
     },
     "execution_count": 21,
     "metadata": {},
     "output_type": "execute_result"
    }
   ],
   "source": [
    "vector = numpy.array([5,10,15,20.0])\n",
    "vector.dtype"
   ]
  },
  {
   "cell_type": "code",
   "execution_count": 34,
   "metadata": {},
   "outputs": [
    {
     "name": "stdout",
     "output_type": "stream",
     "text": [
      "[  5.  10.]\n",
      "[10 25]\n",
      "[[10]\n",
      " [25]]\n"
     ]
    }
   ],
   "source": [
    "print(vector[0:2])\n",
    "print(matrix[:,1])\n",
    "print(matrix[:2,1:2])"
   ]
  },
  {
   "cell_type": "code",
   "execution_count": 26,
   "metadata": {},
   "outputs": [
    {
     "name": "stdout",
     "output_type": "stream",
     "text": [
      "[['892' '3' 'Kelly' 'male']\n",
      " ['893' '3' 'Wilkes' 'female']\n",
      " ['894' '2' 'Myles' 'male']\n",
      " ['895' '3' 'Wirz' 'male']]\n",
      "<class 'numpy.ndarray'>\n"
     ]
    }
   ],
   "source": [
    "print(help(numpy.genfromtxt))\n",
    "input = numpy.genfromtxt('localhost.txt',delimiter=',',dtype=str,skip_header=1)\n",
    "print(input)\n",
    "print(type(input))"
   ]
  },
  {
   "cell_type": "code",
   "execution_count": 30,
   "metadata": {},
   "outputs": [
    {
     "name": "stdout",
     "output_type": "stream",
     "text": [
      "Kelly\n",
      "Wilkes\n"
     ]
    }
   ],
   "source": [
    "print(input[0,2])\n",
    "print(input[1,2])"
   ]
  },
  {
   "cell_type": "code",
   "execution_count": 35,
   "metadata": {},
   "outputs": [
    {
     "data": {
      "text/plain": [
       "array([False,  True, False, False], dtype=bool)"
      ]
     },
     "execution_count": 35,
     "metadata": {},
     "output_type": "execute_result"
    }
   ],
   "source": [
    "vector = numpy.array([5,10,15,20])\n",
    "vector == 10"
   ]
  },
  {
   "cell_type": "code",
   "execution_count": 41,
   "metadata": {},
   "outputs": [
    {
     "name": "stdout",
     "output_type": "stream",
     "text": [
      "[ 5 10]\n"
     ]
    }
   ],
   "source": [
    "index = (vector == 10) | (vector == 5)\n",
    "print(vector[index])"
   ]
  },
  {
   "cell_type": "code",
   "execution_count": 46,
   "metadata": {},
   "outputs": [
    {
     "name": "stdout",
     "output_type": "stream",
     "text": [
      "<U2\n",
      "['5' '10' '15' '20']\n",
      "float64\n",
      "[  5.  10.  15.  20.]\n",
      "5.0\n"
     ]
    }
   ],
   "source": [
    "vector = numpy.array([\"5\",\"10\",\"15\",\"20\"])\n",
    "print(vector.dtype)\n",
    "print(vector)\n",
    "vector = vector.astype(float)\n",
    "print(vector.dtype)\n",
    "print(vector)\n",
    "print(vector.min())"
   ]
  },
  {
   "cell_type": "code",
   "execution_count": 49,
   "metadata": {},
   "outputs": [
    {
     "name": "stdout",
     "output_type": "stream",
     "text": [
      "[ 30  75 120]\n",
      "[60 75 90]\n"
     ]
    }
   ],
   "source": [
    "matrix = numpy.array([[5,10,15],[20,25,30],[35,40,45]])\n",
    "print(matrix.sum(axis=1))\n",
    "print(matrix.sum(axis=0))"
   ]
  },
  {
   "cell_type": "code",
   "execution_count": 50,
   "metadata": {
    "collapsed": true
   },
   "outputs": [],
   "source": [
    "import numpy as np"
   ]
  },
  {
   "cell_type": "code",
   "execution_count": 55,
   "metadata": {},
   "outputs": [
    {
     "data": {
      "text/plain": [
       "array([[ 0,  1,  2,  3,  4],\n",
       "       [ 5,  6,  7,  8,  9],\n",
       "       [10, 11, 12, 13, 14]])"
      ]
     },
     "execution_count": 55,
     "metadata": {},
     "output_type": "execute_result"
    }
   ],
   "source": [
    "a = np.arange(15).reshape(3,5)\n",
    "a"
   ]
  },
  {
   "cell_type": "code",
   "execution_count": 56,
   "metadata": {},
   "outputs": [
    {
     "data": {
      "text/plain": [
       "(3, 5)"
      ]
     },
     "execution_count": 56,
     "metadata": {},
     "output_type": "execute_result"
    }
   ],
   "source": [
    "a.shape"
   ]
  },
  {
   "cell_type": "code",
   "execution_count": 63,
   "metadata": {},
   "outputs": [
    {
     "name": "stdout",
     "output_type": "stream",
     "text": [
      "2\n",
      "int64\n",
      "15\n"
     ]
    }
   ],
   "source": [
    "print(help(np.ndim))\n",
    "print(a.ndim)\n",
    "print(a.dtype.name)\n",
    "print(a.size)"
   ]
  },
  {
   "cell_type": "markdown",
   "metadata": {},
   "source": [
    "# numpy初始化与操作"
   ]
  },
  {
   "cell_type": "code",
   "execution_count": 66,
   "metadata": {},
   "outputs": [
    {
     "data": {
      "text/plain": [
       "array([[ 0.,  0.,  0.,  0.,  0.],\n",
       "       [ 0.,  0.,  0.,  0.,  0.],\n",
       "       [ 0.,  0.,  0.,  0.,  0.]])"
      ]
     },
     "execution_count": 66,
     "metadata": {},
     "output_type": "execute_result"
    }
   ],
   "source": [
    "np.zeros((3,5))"
   ]
  },
  {
   "cell_type": "code",
   "execution_count": 71,
   "metadata": {},
   "outputs": [
    {
     "data": {
      "text/plain": [
       "array([[[1, 1, 1, 1],\n",
       "        [1, 1, 1, 1],\n",
       "        [1, 1, 1, 1]],\n",
       "\n",
       "       [[1, 1, 1, 1],\n",
       "        [1, 1, 1, 1],\n",
       "        [1, 1, 1, 1]]], dtype=int32)"
      ]
     },
     "execution_count": 71,
     "metadata": {},
     "output_type": "execute_result"
    }
   ],
   "source": [
    "np.ones((2,3,4),dtype=np.int32)"
   ]
  },
  {
   "cell_type": "markdown",
   "metadata": {},
   "source": [
    "10-15之间我们每隔0.5取一个数"
   ]
  },
  {
   "cell_type": "code",
   "execution_count": 74,
   "metadata": {},
   "outputs": [
    {
     "data": {
      "text/plain": [
       "array([ 10. ,  10.5,  11. ,  11.5,  12. ,  12.5,  13. ,  13.5,  14. ,  14.5])"
      ]
     },
     "execution_count": 74,
     "metadata": {},
     "output_type": "execute_result"
    }
   ],
   "source": [
    "np.arange(10,15,0.5)"
   ]
  },
  {
   "cell_type": "markdown",
   "metadata": {},
   "source": [
    "调取random模块的random函数得到2行3列的矩阵"
   ]
  },
  {
   "cell_type": "code",
   "execution_count": 76,
   "metadata": {},
   "outputs": [
    {
     "data": {
      "text/plain": [
       "array([[ 0.41267942,  0.28269372,  0.46680873],\n",
       "       [ 0.44050161,  0.76351182,  0.82839201]])"
      ]
     },
     "execution_count": 76,
     "metadata": {},
     "output_type": "execute_result"
    }
   ],
   "source": [
    "np.random.random((2,3))"
   ]
  },
  {
   "cell_type": "markdown",
   "metadata": {},
   "source": [
    "0-pi之间，我们平均一共取50个数"
   ]
  },
  {
   "cell_type": "code",
   "execution_count": 77,
   "metadata": {},
   "outputs": [
    {
     "data": {
      "text/plain": [
       "array([ 0.        ,  0.06411414,  0.12822827,  0.19234241,  0.25645654,\n",
       "        0.32057068,  0.38468481,  0.44879895,  0.51291309,  0.57702722,\n",
       "        0.64114136,  0.70525549,  0.76936963,  0.83348377,  0.8975979 ,\n",
       "        0.96171204,  1.02582617,  1.08994031,  1.15405444,  1.21816858,\n",
       "        1.28228272,  1.34639685,  1.41051099,  1.47462512,  1.53873926,\n",
       "        1.60285339,  1.66696753,  1.73108167,  1.7951958 ,  1.85930994,\n",
       "        1.92342407,  1.98753821,  2.05165235,  2.11576648,  2.17988062,\n",
       "        2.24399475,  2.30810889,  2.37222302,  2.43633716,  2.5004513 ,\n",
       "        2.56456543,  2.62867957,  2.6927937 ,  2.75690784,  2.82102197,\n",
       "        2.88513611,  2.94925025,  3.01336438,  3.07747852,  3.14159265])"
      ]
     },
     "execution_count": 77,
     "metadata": {},
     "output_type": "execute_result"
    }
   ],
   "source": [
    "from numpy import pi\n",
    "np.linspace(0,pi,50)"
   ]
  },
  {
   "cell_type": "code",
   "execution_count": 85,
   "metadata": {},
   "outputs": [
    {
     "name": "stdout",
     "output_type": "stream",
     "text": [
      "[  1.           2.71828183   7.3890561   20.08553692]\n",
      "[ 0.          1.          1.41421356  1.73205081]\n",
      "----------------------------------------------\n",
      "[ 5  9 13 17]\n",
      "[ 4  8 12 16]\n",
      "[ 25  81 169 289]\n",
      "[ True  True False False]\n"
     ]
    }
   ],
   "source": [
    "a = np.array([5,10,15,20])\n",
    "b = np.arange(4)\n",
    "print(np.exp(b))\n",
    "print(np.sqrt(b))\n",
    "print(\"----------------------------------------------\")\n",
    "c = a - b\n",
    "print(c)\n",
    "print(c-1)\n",
    "print(c**2)\n",
    "print(c<10)"
   ]
  },
  {
   "cell_type": "code",
   "execution_count": 83,
   "metadata": {},
   "outputs": [
    {
     "name": "stdout",
     "output_type": "stream",
     "text": [
      "[[2 1]\n",
      " [0 2]]\n",
      "[[3 3]\n",
      " [1 2]]\n",
      "[[3 3]\n",
      " [1 2]]\n"
     ]
    }
   ],
   "source": [
    "a = np.array([[1,1],\n",
    "              [0,1]])\n",
    "b = np.array([[2,1],\n",
    "              [1,2]])\n",
    "print(a*b)\n",
    "print(a.dot(b))\n",
    "print(np.dot(a,b))"
   ]
  },
  {
   "cell_type": "code",
   "execution_count": 91,
   "metadata": {},
   "outputs": [
    {
     "name": "stdout",
     "output_type": "stream",
     "text": [
      "[[ 7.  0.  4.  6.]\n",
      " [ 2.  8.  5.  3.]\n",
      " [ 1.  3.  0.  7.]]\n",
      "----------------------------------------------\n",
      "[ 7.  0.  4.  6.  2.  8.  5.  3.  1.  3.  0.  7.]\n",
      "----------------------------------------------\n",
      "[[ 7.  0.]\n",
      " [ 4.  6.]\n",
      " [ 2.  8.]\n",
      " [ 5.  3.]\n",
      " [ 1.  3.]\n",
      " [ 0.  7.]]\n",
      "----------------------------------------------\n",
      "[[ 7.  4.  2.  5.  1.  0.]\n",
      " [ 0.  6.  8.  3.  3.  7.]]\n"
     ]
    }
   ],
   "source": [
    "a = np.floor(10*np.random.random((3,4)))\n",
    "print(a)\n",
    "print(\"----------------------------------------------\")\n",
    "print(a.ravel())\n",
    "print(\"----------------------------------------------\")\n",
    "a.shape = (6,2)\n",
    "print(a)\n",
    "print(\"----------------------------------------------\")\n",
    "print(a.T)"
   ]
  },
  {
   "cell_type": "code",
   "execution_count": 94,
   "metadata": {},
   "outputs": [
    {
     "name": "stdout",
     "output_type": "stream",
     "text": [
      "[[ 7.  6.]\n",
      " [ 6.  4.]]\n",
      "[[ 7.  6.]\n",
      " [ 0.  9.]]\n",
      "----------------------------------------------\n",
      "[[ 7.  6.]\n",
      " [ 6.  4.]\n",
      " [ 7.  6.]\n",
      " [ 0.  9.]]\n",
      "[[ 7.  6.  7.  6.]\n",
      " [ 6.  4.  0.  9.]]\n"
     ]
    }
   ],
   "source": [
    "a = np.floor(10*np.random.random((2,2)))\n",
    "b = np.floor(10*np.random.random((2,2)))\n",
    "print(a)\n",
    "print(b)\n",
    "print(\"----------------------------------------------\")\n",
    "print(np.vstack((a,b)))\n",
    "print(np.hstack((a,b)))"
   ]
  },
  {
   "cell_type": "code",
   "execution_count": 97,
   "metadata": {},
   "outputs": [
    {
     "name": "stdout",
     "output_type": "stream",
     "text": [
      "[array([[ 3.,  1.,  7.,  8.],\n",
      "       [ 5.,  6.,  1.,  7.]]), array([[ 2.,  6.,  8.,  3.],\n",
      "       [ 9.,  4.,  8.,  4.]]), array([[ 2.,  9.,  9.,  2.],\n",
      "       [ 3.,  3.,  0.,  1.]])]\n",
      "----------------------------------------------\n",
      "[array([[ 3.,  1.,  7.],\n",
      "       [ 5.,  6.,  1.]]), array([[ 8.],\n",
      "       [ 7.]]), array([[ 2.,  6.,  8.,  3.,  2.,  9.,  9.,  2.],\n",
      "       [ 9.,  4.,  8.,  4.,  3.,  3.,  0.,  1.]])]\n"
     ]
    }
   ],
   "source": [
    "a = np.floor(10*np.random.random((2,12)))\n",
    "print(np.hsplit(a,3))\n",
    "print(\"----------------------------------------------\")\n",
    "print(np.hsplit(a,(3,4)))"
   ]
  },
  {
   "cell_type": "code",
   "execution_count": 98,
   "metadata": {},
   "outputs": [
    {
     "name": "stdout",
     "output_type": "stream",
     "text": [
      "[array([[ 0.,  9.],\n",
      "       [ 1.,  2.],\n",
      "       [ 2.,  4.],\n",
      "       [ 5.,  5.]]), array([[ 0.,  5.],\n",
      "       [ 1.,  4.],\n",
      "       [ 2.,  6.],\n",
      "       [ 2.,  1.]]), array([[ 1.,  7.],\n",
      "       [ 0.,  8.],\n",
      "       [ 9.,  5.],\n",
      "       [ 8.,  5.]])]\n",
      "----------------------------------------------\n",
      "[array([[ 0.,  9.],\n",
      "       [ 1.,  2.],\n",
      "       [ 2.,  4.]]), array([[ 5.,  5.]]), array([[ 0.,  5.],\n",
      "       [ 1.,  4.],\n",
      "       [ 2.,  6.],\n",
      "       [ 2.,  1.],\n",
      "       [ 1.,  7.],\n",
      "       [ 0.,  8.],\n",
      "       [ 9.,  5.],\n",
      "       [ 8.,  5.]])]\n"
     ]
    }
   ],
   "source": [
    "a = np.floor(10*np.random.random((12,2)))\n",
    "print(np.vsplit(a,3))\n",
    "print(\"----------------------------------------------\")\n",
    "print(np.vsplit(a,(3,4)))"
   ]
  },
  {
   "cell_type": "markdown",
   "metadata": {},
   "source": [
    "复制\n",
    "\n",
    "a = b 那么两个除了变量名不一样，指向同一地址值\n",
    "\n",
    "view不再指向同一地址,但是c的值改变会导致a的值跟着变\n",
    "\n",
    "我们如果复制使用copy，不再指向同一地址,d的值改变也不会导致a的值跟着变"
   ]
  },
  {
   "cell_type": "code",
   "execution_count": 99,
   "metadata": {},
   "outputs": [
    {
     "name": "stdout",
     "output_type": "stream",
     "text": [
      "4557508736\n",
      "4557548240\n"
     ]
    }
   ],
   "source": [
    "c = a.view()\n",
    "print(id(a))\n",
    "print(id(c))"
   ]
  },
  {
   "cell_type": "code",
   "execution_count": 100,
   "metadata": {},
   "outputs": [
    {
     "name": "stdout",
     "output_type": "stream",
     "text": [
      "4557508736\n",
      "4557510176\n"
     ]
    }
   ],
   "source": [
    "d = a.copy()\n",
    "print(id(a))\n",
    "print(id(d))"
   ]
  },
  {
   "cell_type": "code",
   "execution_count": 106,
   "metadata": {},
   "outputs": [
    {
     "name": "stdout",
     "output_type": "stream",
     "text": [
      "[[ 0  5 10 15  0  5 10 15  0  5 10 15]\n",
      " [ 0  5 10 15  0  5 10 15  0  5 10 15]]\n"
     ]
    }
   ],
   "source": [
    "a = np.arange(0,20,5)\n",
    "b = np.tile(a,(2,3))\n",
    "print(b)"
   ]
  },
  {
   "cell_type": "markdown",
   "metadata": {},
   "source": [
    "取矩阵最大值"
   ]
  },
  {
   "cell_type": "code",
   "execution_count": 101,
   "metadata": {},
   "outputs": [
    {
     "name": "stdout",
     "output_type": "stream",
     "text": [
      "[[ 0.          0.84147098  0.90929743  0.14112001]\n",
      " [-0.7568025  -0.95892427 -0.2794155   0.6569866 ]\n",
      " [ 0.98935825  0.41211849 -0.54402111 -0.99999021]\n",
      " [-0.53657292  0.42016704  0.99060736  0.65028784]\n",
      " [-0.28790332 -0.96139749 -0.75098725  0.14987721]]\n"
     ]
    }
   ],
   "source": [
    "data = np.sin(np.arange(20).reshape(5,4))\n",
    "print(data)"
   ]
  },
  {
   "cell_type": "code",
   "execution_count": 119,
   "metadata": {},
   "outputs": [
    {
     "name": "stdout",
     "output_type": "stream",
     "text": [
      "[2 0 3 1]\n",
      "[ 0.98935825  0.84147098  0.99060736  0.6569866 ]\n"
     ]
    }
   ],
   "source": [
    "index = data.argmax(axis=0)\n",
    "print(index)\n",
    "data_max = data[index,range(data.shape[1])]\n",
    "print(data_max)"
   ]
  },
  {
   "cell_type": "code",
   "execution_count": 123,
   "metadata": {},
   "outputs": [
    {
     "data": {
      "text/plain": [
       "array([[3, 4, 5],\n",
       "       [1, 4, 4]])"
      ]
     },
     "execution_count": 123,
     "metadata": {},
     "output_type": "execute_result"
    }
   ],
   "source": [
    "a = np.array([[4,3,5],[4,1,4]])\n",
    "np.sort(a,axis=1)"
   ]
  },
  {
   "cell_type": "code",
   "execution_count": 124,
   "metadata": {},
   "outputs": [
    {
     "data": {
      "text/plain": [
       "array([[1, 0, 2],\n",
       "       [1, 0, 2]])"
      ]
     },
     "execution_count": 124,
     "metadata": {},
     "output_type": "execute_result"
    }
   ],
   "source": [
    "np.argsort(a)"
   ]
  },
  {
   "cell_type": "code",
   "execution_count": null,
   "metadata": {
    "collapsed": true
   },
   "outputs": [],
   "source": []
  }
 ],
 "metadata": {
  "kernelspec": {
   "display_name": "Python 3",
   "language": "python",
   "name": "python3"
  },
  "language_info": {
   "codemirror_mode": {
    "name": "ipython",
    "version": 3
   },
   "file_extension": ".py",
   "mimetype": "text/x-python",
   "name": "python",
   "nbconvert_exporter": "python",
   "pygments_lexer": "ipython3",
   "version": "3.7.3"
  }
 },
 "nbformat": 4,
 "nbformat_minor": 2
}
