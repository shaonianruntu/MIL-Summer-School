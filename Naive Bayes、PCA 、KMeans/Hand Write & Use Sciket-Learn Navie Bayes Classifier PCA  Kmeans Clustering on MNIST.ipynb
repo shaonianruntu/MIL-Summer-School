{
 "cells": [
  {
   "cell_type": "markdown",
   "metadata": {},
   "source": [
    "# Hand Write & Use Sciket-Learn Navie Bayes Classifier / PCA / Kmeans Clustering on MNIST"
   ]
  },
  {
   "cell_type": "markdown",
   "metadata": {},
   "source": [
    "## Navie Bayes（Classification, Based on Probability Theory）\n",
    "- Pros：在数据较少的情况下仍然有效，可以处理多分类问题。\n",
    "- Cons：对于输入数据的准备方式较为敏感。\n",
    "- 适用数据类型：标称型数据。"
   ]
  },
  {
   "cell_type": "code",
   "execution_count": 177,
   "metadata": {},
   "outputs": [],
   "source": [
    "#文档头文件\n",
    "import math\n",
    "import numpy as np\n",
    "import matplotlib.pyplot as plt\n",
    "\n",
    "from sklearn import datasets, model_selection\n",
    "from sklearn.metrics import classification_report\n",
    "from collections import Counter\n",
    "from sklearn.naive_bayes import GaussianNB"
   ]
  },
  {
   "cell_type": "markdown",
   "metadata": {},
   "source": [
    "### 准备数据：使用像素特征来表示图像"
   ]
  },
  {
   "cell_type": "code",
   "execution_count": 4,
   "metadata": {},
   "outputs": [
    {
     "data": {
      "text/plain": [
       "((70000, 784), (70000,))"
      ]
     },
     "execution_count": 4,
     "metadata": {},
     "output_type": "execute_result"
    }
   ],
   "source": [
    "#导入mnist数据集：https://www.openml.org/d/554\n",
    "#并观察mnist数据集的大小\n",
    "mnist = datasets.fetch_openml('mnist_784')\n",
    "data, target = mnist.data, mnist.target\n",
    "data.shape, target.shape"
   ]
  },
  {
   "cell_type": "code",
   "execution_count": 10,
   "metadata": {},
   "outputs": [
    {
     "name": "stdout",
     "output_type": "stream",
     "text": [
      "[[  0.   0.   0.   0.   0.   0.   0.   0.   0.   0.   0.   0.   0.   0.\n",
      "    0.   0.   0.   0.   0.   0.   0.   0.   0.   0.   0.   0.   0.   0.]\n",
      " [  0.   0.   0.   0.   0.   0.   0.   0.   0.   0.   0.   0.   0.   0.\n",
      "    0.   0.   0.   0.   0.   0.   0.   0.   0.   0.   0.   0.   0.   0.]\n",
      " [  0.   0.   0.   0.   0.   0.   0.   0.   0.   0.   0.   0.   0.   0.\n",
      "    0.   0.   0.   0.   0.   0.   0.   0.   0.   0.   0.   0.   0.   0.]\n",
      " [  0.   0.   0.   0.   0.   0.   0.   0.   0.   0.   0.   0.   0.   0.\n",
      "    0.   0.   0.   0.   0.   0.   0.   0.   0.   0.   0.   0.   0.   0.]\n",
      " [  0.   0.   0.   0.   0.   0.   0.   0.   0.   0.   0.   0.   0.   0.\n",
      "    0.   0.   0.   0.   0.   0.   0.   0.   0.   0.   0.   0.   0.   0.]\n",
      " [  0.   0.   0.   0.   0.   0.   0.   0.   0.   0.   0.   0.   3.  18.\n",
      "   18.  18. 126. 136. 175.  26. 166. 255. 247. 127.   0.   0.   0.   0.]\n",
      " [  0.   0.   0.   0.   0.   0.   0.   0.  30.  36.  94. 154. 170. 253.\n",
      "  253. 253. 253. 253. 225. 172. 253. 242. 195.  64.   0.   0.   0.   0.]\n",
      " [  0.   0.   0.   0.   0.   0.   0.  49. 238. 253. 253. 253. 253. 253.\n",
      "  253. 253. 253. 251.  93.  82.  82.  56.  39.   0.   0.   0.   0.   0.]\n",
      " [  0.   0.   0.   0.   0.   0.   0.  18. 219. 253. 253. 253. 253. 253.\n",
      "  198. 182. 247. 241.   0.   0.   0.   0.   0.   0.   0.   0.   0.   0.]\n",
      " [  0.   0.   0.   0.   0.   0.   0.   0.  80. 156. 107. 253. 253. 205.\n",
      "   11.   0.  43. 154.   0.   0.   0.   0.   0.   0.   0.   0.   0.   0.]\n",
      " [  0.   0.   0.   0.   0.   0.   0.   0.   0.  14.   1. 154. 253.  90.\n",
      "    0.   0.   0.   0.   0.   0.   0.   0.   0.   0.   0.   0.   0.   0.]\n",
      " [  0.   0.   0.   0.   0.   0.   0.   0.   0.   0.   0. 139. 253. 190.\n",
      "    2.   0.   0.   0.   0.   0.   0.   0.   0.   0.   0.   0.   0.   0.]\n",
      " [  0.   0.   0.   0.   0.   0.   0.   0.   0.   0.   0.  11. 190. 253.\n",
      "   70.   0.   0.   0.   0.   0.   0.   0.   0.   0.   0.   0.   0.   0.]\n",
      " [  0.   0.   0.   0.   0.   0.   0.   0.   0.   0.   0.   0.  35. 241.\n",
      "  225. 160. 108.   1.   0.   0.   0.   0.   0.   0.   0.   0.   0.   0.]\n",
      " [  0.   0.   0.   0.   0.   0.   0.   0.   0.   0.   0.   0.   0.  81.\n",
      "  240. 253. 253. 119.  25.   0.   0.   0.   0.   0.   0.   0.   0.   0.]\n",
      " [  0.   0.   0.   0.   0.   0.   0.   0.   0.   0.   0.   0.   0.   0.\n",
      "   45. 186. 253. 253. 150.  27.   0.   0.   0.   0.   0.   0.   0.   0.]\n",
      " [  0.   0.   0.   0.   0.   0.   0.   0.   0.   0.   0.   0.   0.   0.\n",
      "    0.  16.  93. 252. 253. 187.   0.   0.   0.   0.   0.   0.   0.   0.]\n",
      " [  0.   0.   0.   0.   0.   0.   0.   0.   0.   0.   0.   0.   0.   0.\n",
      "    0.   0.   0. 249. 253. 249.  64.   0.   0.   0.   0.   0.   0.   0.]\n",
      " [  0.   0.   0.   0.   0.   0.   0.   0.   0.   0.   0.   0.   0.   0.\n",
      "   46. 130. 183. 253. 253. 207.   2.   0.   0.   0.   0.   0.   0.   0.]\n",
      " [  0.   0.   0.   0.   0.   0.   0.   0.   0.   0.   0.   0.  39. 148.\n",
      "  229. 253. 253. 253. 250. 182.   0.   0.   0.   0.   0.   0.   0.   0.]\n",
      " [  0.   0.   0.   0.   0.   0.   0.   0.   0.   0.  24. 114. 221. 253.\n",
      "  253. 253. 253. 201.  78.   0.   0.   0.   0.   0.   0.   0.   0.   0.]\n",
      " [  0.   0.   0.   0.   0.   0.   0.   0.  23.  66. 213. 253. 253. 253.\n",
      "  253. 198.  81.   2.   0.   0.   0.   0.   0.   0.   0.   0.   0.   0.]\n",
      " [  0.   0.   0.   0.   0.   0.  18. 171. 219. 253. 253. 253. 253. 195.\n",
      "   80.   9.   0.   0.   0.   0.   0.   0.   0.   0.   0.   0.   0.   0.]\n",
      " [  0.   0.   0.   0.  55. 172. 226. 253. 253. 253. 253. 244. 133.  11.\n",
      "    0.   0.   0.   0.   0.   0.   0.   0.   0.   0.   0.   0.   0.   0.]\n",
      " [  0.   0.   0.   0. 136. 253. 253. 253. 212. 135. 132.  16.   0.   0.\n",
      "    0.   0.   0.   0.   0.   0.   0.   0.   0.   0.   0.   0.   0.   0.]\n",
      " [  0.   0.   0.   0.   0.   0.   0.   0.   0.   0.   0.   0.   0.   0.\n",
      "    0.   0.   0.   0.   0.   0.   0.   0.   0.   0.   0.   0.   0.   0.]\n",
      " [  0.   0.   0.   0.   0.   0.   0.   0.   0.   0.   0.   0.   0.   0.\n",
      "    0.   0.   0.   0.   0.   0.   0.   0.   0.   0.   0.   0.   0.   0.]\n",
      " [  0.   0.   0.   0.   0.   0.   0.   0.   0.   0.   0.   0.   0.   0.\n",
      "    0.   0.   0.   0.   0.   0.   0.   0.   0.   0.   0.   0.   0.   0.]]\n"
     ]
    },
    {
     "data": {
      "text/plain": [
       "'5'"
      ]
     },
     "execution_count": 10,
     "metadata": {},
     "output_type": "execute_result"
    },
    {
     "data": {
      "image/png": "[encoded data removed]",
      "text/plain": [
       "<Figure size 432x288 with 1 Axes>"
      ]
     },
     "metadata": {
      "needs_background": "light"
     },
     "output_type": "display_data"
    }
   ],
   "source": [
    "#观察数据样本\n",
    "plt.gray()\n",
    "print(data[0].reshape(28,28))\n",
    "plt.imshow(data[0].reshape(28, 28))\n",
    "target[0]"
   ]
  },
  {
   "cell_type": "code",
   "execution_count": 189,
   "metadata": {},
   "outputs": [],
   "source": [
    "#对图片像素二值化，变成0-1分布\n",
    "#对图片sample的像素特征构建成更显著的标称型数据\n",
    "def normalize(data):\n",
    "    sample_num, img_size= data.shape\n",
    "    for i in range(sample_num):\n",
    "        for j in range(img_size):\n",
    "            if int(data[i, j]) != 0:\n",
    "                data[i,j] = 1\n",
    "            else:\n",
    "                data[i,j] = 0\n",
    "    return data\n",
    "\n",
    "data = normalize(data).astype(int)"
   ]
  },
  {
   "cell_type": "code",
   "execution_count": 50,
   "metadata": {
    "scrolled": true
   },
   "outputs": [
    {
     "name": "stdout",
     "output_type": "stream",
     "text": [
      "[[0 0 0 0 0 0 0 0 0 0 0 0 0 0 0 0 0 0 0 0 0 0 0 0 0 0 0 0]\n",
      " [0 0 0 0 0 0 0 0 0 0 0 0 0 0 0 0 0 0 0 0 0 0 0 0 0 0 0 0]\n",
      " [0 0 0 0 0 0 0 0 0 0 0 0 0 0 0 0 0 0 0 0 0 0 0 0 0 0 0 0]\n",
      " [0 0 0 0 0 0 0 0 0 0 0 0 0 0 0 0 0 0 0 0 0 0 0 0 0 0 0 0]\n",
      " [0 0 0 0 0 0 0 0 0 0 0 0 0 0 0 0 0 0 0 0 0 0 0 0 0 0 0 0]\n",
      " [0 0 0 0 0 0 0 0 0 0 0 0 1 1 1 1 1 1 1 1 1 1 1 1 0 0 0 0]\n",
      " [0 0 0 0 0 0 0 0 1 1 1 1 1 1 1 1 1 1 1 1 1 1 1 1 0 0 0 0]\n",
      " [0 0 0 0 0 0 0 1 1 1 1 1 1 1 1 1 1 1 1 1 1 1 1 0 0 0 0 0]\n",
      " [0 0 0 0 0 0 0 1 1 1 1 1 1 1 1 1 1 1 0 0 0 0 0 0 0 0 0 0]\n",
      " [0 0 0 0 0 0 0 0 1 1 1 1 1 1 1 0 1 1 0 0 0 0 0 0 0 0 0 0]\n",
      " [0 0 0 0 0 0 0 0 0 1 1 1 1 1 0 0 0 0 0 0 0 0 0 0 0 0 0 0]\n",
      " [0 0 0 0 0 0 0 0 0 0 0 1 1 1 1 0 0 0 0 0 0 0 0 0 0 0 0 0]\n",
      " [0 0 0 0 0 0 0 0 0 0 0 1 1 1 1 0 0 0 0 0 0 0 0 0 0 0 0 0]\n",
      " [0 0 0 0 0 0 0 0 0 0 0 0 1 1 1 1 1 1 0 0 0 0 0 0 0 0 0 0]\n",
      " [0 0 0 0 0 0 0 0 0 0 0 0 0 1 1 1 1 1 1 0 0 0 0 0 0 0 0 0]\n",
      " [0 0 0 0 0 0 0 0 0 0 0 0 0 0 1 1 1 1 1 1 0 0 0 0 0 0 0 0]\n",
      " [0 0 0 0 0 0 0 0 0 0 0 0 0 0 0 1 1 1 1 1 0 0 0 0 0 0 0 0]\n",
      " [0 0 0 0 0 0 0 0 0 0 0 0 0 0 0 0 0 1 1 1 1 0 0 0 0 0 0 0]\n",
      " [0 0 0 0 0 0 0 0 0 0 0 0 0 0 1 1 1 1 1 1 1 0 0 0 0 0 0 0]\n",
      " [0 0 0 0 0 0 0 0 0 0 0 0 1 1 1 1 1 1 1 1 0 0 0 0 0 0 0 0]\n",
      " [0 0 0 0 0 0 0 0 0 0 1 1 1 1 1 1 1 1 1 0 0 0 0 0 0 0 0 0]\n",
      " [0 0 0 0 0 0 0 0 1 1 1 1 1 1 1 1 1 1 0 0 0 0 0 0 0 0 0 0]\n",
      " [0 0 0 0 0 0 1 1 1 1 1 1 1 1 1 1 0 0 0 0 0 0 0 0 0 0 0 0]\n",
      " [0 0 0 0 1 1 1 1 1 1 1 1 1 1 0 0 0 0 0 0 0 0 0 0 0 0 0 0]\n",
      " [0 0 0 0 1 1 1 1 1 1 1 1 0 0 0 0 0 0 0 0 0 0 0 0 0 0 0 0]\n",
      " [0 0 0 0 0 0 0 0 0 0 0 0 0 0 0 0 0 0 0 0 0 0 0 0 0 0 0 0]\n",
      " [0 0 0 0 0 0 0 0 0 0 0 0 0 0 0 0 0 0 0 0 0 0 0 0 0 0 0 0]\n",
      " [0 0 0 0 0 0 0 0 0 0 0 0 0 0 0 0 0 0 0 0 0 0 0 0 0 0 0 0]]\n"
     ]
    },
    {
     "data": {
      "text/plain": [
       "'5'"
      ]
     },
     "execution_count": 50,
     "metadata": {},
     "output_type": "execute_result"
    },
    {
     "data": {
      "image/png": "[encoded data removed]",
      "text/plain": [
       "<Figure size 432x288 with 1 Axes>"
      ]
     },
     "metadata": {
      "needs_background": "light"
     },
     "output_type": "display_data"
    }
   ],
   "source": [
    "#观察二值化处理后的数据样本\n",
    "plt.gray()\n",
    "print(data[0].reshape(28,28))\n",
    "plt.imshow(data[0].reshape(28, 28))\n",
    "target[0]"
   ]
  },
  {
   "cell_type": "code",
   "execution_count": null,
   "metadata": {},
   "outputs": [],
   "source": [
    "#另一种二值化的方法：使用均值来做二值化\n",
    "def normalize_mean(data):\n",
    "    sample_num, img_size= data.shape\n",
    "    for i in range(sample_num):\n",
    "        img_pixel_mean = data[i].mean()\n",
    "        data[i] = np.array([0 if i < img_pixel_mean else 1 for i in data[i]])\n",
    "    return data\n",
    "\n",
    "data_mean = normalize_mean(data).astype(int)"
   ]
  },
  {
   "cell_type": "code",
   "execution_count": 53,
   "metadata": {},
   "outputs": [],
   "source": [
    "#生成一个随机数组\n",
    "indx = np.random.choice(len(target), len(target), replace=False)\n",
    "\n",
    "#构建一定长度大小的新 data 和 target 数组\n",
    "def mk_dataset(size, data, target):\n",
    "    train_img = [data[i] for i in indx[:size]]\n",
    "    train_img = np.array(train_img)\n",
    "    test_img = [target[i] for i in indx[:size]]\n",
    "    test_img = np.array(test_img)\n",
    "    \n",
    "    return train_img, test_img"
   ]
  },
  {
   "cell_type": "code",
   "execution_count": 54,
   "metadata": {},
   "outputs": [
    {
     "data": {
      "text/plain": [
       "((60000, 784), (60000,))"
      ]
     },
     "execution_count": 54,
     "metadata": {},
     "output_type": "execute_result"
    }
   ],
   "source": [
    "#使用随机数组划分得到60000个训练集，10000个测试集\n",
    "sixty_x, sixty_y = mk_dataset(60000, data, target)\n",
    "sixty_x.shape, sixty_y.shape"
   ]
  },
  {
   "cell_type": "code",
   "execution_count": 143,
   "metadata": {},
   "outputs": [
    {
     "data": {
      "text/plain": [
       "((10000, 784), (10000,))"
      ]
     },
     "execution_count": 143,
     "metadata": {},
     "output_type": "execute_result"
    }
   ],
   "source": [
    "test_img = [data[i] for i in indx[-10000:]]\n",
    "test_img_np = np.array(test_img)\n",
    "test_target = [target[i] for i in indx[-10000:]]\n",
    "test_target_np = np.array(test_target)\n",
    "test_img_np.shape, test_target_np.shape"
   ]
  },
  {
   "cell_type": "markdown",
   "metadata": {},
   "source": [
    "### 训练算法：从二值化后的像素特征来计算概率\n",
    "\n",
    "$P(c_i|w) = \\frac{p(w|ci)p(ci)}{p(w)}$\n",
    "\n",
    "\n",
    "- $p(ci)$ 先验概率：minst手写字体图片对应的label，共10个类别（0～9）\n",
    "- $p(w|c_i)$ 条件概率：该label下对应的feature的概率\n",
    "- $p(c_i|w)$ 后验概率：给出一个新的图片向量矩阵feature，计算其属于label（0~9）的概率"
   ]
  },
  {
   "cell_type": "code",
   "execution_count": 171,
   "metadata": {},
   "outputs": [],
   "source": [
    "class naviebayes():\n",
    "    def train(self, feature, label):\n",
    "        #样本数和特征数\n",
    "        sample_num, feature_dimension = feature.shape;\n",
    "        label_counter = Counter(label)\n",
    "        self.label_size = len(list(label_counter))\n",
    "        label_sort = list(label_counter)\n",
    "        label_sort.sort()      #对标记的统计结果按照字符串的顺序进行重新排列（0到9）  \n",
    "\n",
    "        #先验概率\n",
    "        self.prior_probability = np.array([label_counter[label_sort[i]]/sample_num for i in range(self.label_size)])\n",
    "\n",
    "        #后验概率\n",
    "        poster_num = np.empty((self.label_size, feature_dimension))\n",
    "        self.poster_probability = np.empty((self.label_size, feature_dimension))\n",
    "        for one_label in range(self.label_size):\n",
    "            poster_num[one_label] = feature[np.where(label == one_label)].sum(axis=0)\n",
    "            #拉普拉斯平滑\n",
    "            self.poster_probability[one_label] = (poster_num[one_label]+1)/(label_counter[one_label]+2)\n",
    "\n",
    "        return self.prior_probability, self.poster_probability\n",
    "\n",
    "    def predict(self, feature, label):\n",
    "        #样本数和特征数\n",
    "        sample_num, feature_dimension = feature.shape;\n",
    "        pred = np.empty(sample_num)\n",
    "        for one_sample in range(sample_num):\n",
    "            prob = np.empty(self.label_size)\n",
    "            for one_label in range(self.label_size):\n",
    "                temp = sum([math.log(1-self.poster_probability[one_label][one_pixel]) \\\n",
    "                            if feature[one_sample][one_pixel] == 0 \\\n",
    "                            else math.log(self.poster_probability[one_label][one_pixel]) \\\n",
    "                            for one_pixel in range(feature_dimension)])\n",
    "            pred[one_sample] = np.argmax(prob)\n",
    "        return pred, sum(1 for a, b in zip(pred.astype(int), label.astype(int)) if a == b) / sample_num\n",
    "            "
   ]
  },
  {
   "cell_type": "code",
   "execution_count": 172,
   "metadata": {},
   "outputs": [
    {
     "name": "stderr",
     "output_type": "stream",
     "text": [
      "/Users/fangn/anaconda3/lib/python3.7/site-packages/ipykernel_launcher.py:17: FutureWarning: elementwise comparison failed; returning scalar instead, but in the future will perform elementwise comparison\n"
     ]
    }
   ],
   "source": [
    "nb = naviebayes()\n",
    "prior_probability, poster_probability = nb.train(sixty_x, sixty_y)\n",
    "pred, accuary = nb.predict(test_img_np, test_target_np)"
   ]
  },
  {
   "cell_type": "code",
   "execution_count": 182,
   "metadata": {},
   "outputs": [
    {
     "name": "stdout",
     "output_type": "stream",
     "text": [
      "              precision    recall  f1-score   support\n",
      "\n",
      "           0       0.00      0.00      0.00       970\n",
      "           1       0.00      0.00      0.00      1122\n",
      "           2       0.00      0.00      0.00       978\n",
      "           3       0.00      0.00      0.00       992\n",
      "           4       0.10      0.52      0.17      1005\n",
      "           5       0.00      0.00      0.00       894\n",
      "           6       0.00      0.00      0.00       983\n",
      "           7       0.10      0.50      0.17      1050\n",
      "           8       0.00      0.00      0.00      1033\n",
      "           9       0.00      0.00      0.00       973\n",
      "\n",
      "   micro avg       0.10      0.10      0.10     10000\n",
      "   macro avg       0.02      0.10      0.03     10000\n",
      "weighted avg       0.02      0.10      0.04     10000\n",
      "\n",
      "accuary:  0.1046\n"
     ]
    },
    {
     "name": "stderr",
     "output_type": "stream",
     "text": [
      "/Users/fangn/anaconda3/lib/python3.7/site-packages/sklearn/metrics/classification.py:1143: UndefinedMetricWarning: Precision and F-score are ill-defined and being set to 0.0 in labels with no predicted samples.\n",
      "  'precision', 'predicted', average, warn_for)\n"
     ]
    }
   ],
   "source": [
    "print(classification_report(test_target_np.astype(int), pred))\n",
    "print(\"accuary: \", accuary)"
   ]
  },
  {
   "cell_type": "markdown",
   "metadata": {},
   "source": [
    "### 使用sklearn实现训练算法"
   ]
  },
  {
   "cell_type": "code",
   "execution_count": 186,
   "metadata": {},
   "outputs": [
    {
     "name": "stdout",
     "output_type": "stream",
     "text": [
      "              precision    recall  f1-score   support\n",
      "\n",
      "           0       0.55      0.87      0.67       970\n",
      "           1       0.88      0.91      0.90      1122\n",
      "           2       0.80      0.22      0.34       978\n",
      "           3       0.69      0.29      0.40       992\n",
      "           4       0.78      0.10      0.18      1005\n",
      "           5       0.70      0.03      0.07       894\n",
      "           6       0.55      0.97      0.70       983\n",
      "           7       0.88      0.28      0.42      1050\n",
      "           8       0.35      0.62      0.45      1033\n",
      "           9       0.36      0.95      0.53       973\n",
      "\n",
      "   micro avg       0.53      0.53      0.53     10000\n",
      "   macro avg       0.65      0.52      0.47     10000\n",
      "weighted avg       0.66      0.53      0.47     10000\n",
      "\n"
     ]
    }
   ],
   "source": [
    "model = GaussianNB()\n",
    "model.fit(sixty_x, sixty_y)\n",
    "pred = model.predict(test_img_np)\n",
    "print(classification_report(test_target_np, pred))"
   ]
  },
  {
   "cell_type": "markdown",
   "metadata": {},
   "source": [
    "## Kmeans Clustering\n",
    "- Pros：容易实现\n",
    "- Cons：可能收敛到局部最小值，在大规模数据集上收敛较慢。\n",
    "- 适用数据类型：数值型数据。"
   ]
  },
  {
   "cell_type": "markdown",
   "metadata": {},
   "source": [
    "### 手写源码实现 Kmeans"
   ]
  },
  {
   "cell_type": "code",
   "execution_count": 271,
   "metadata": {},
   "outputs": [],
   "source": [
    "class hand_kmeans():\n",
    "    #计算欧式距离\n",
    "    def dist_eclud(vec_a, vec_b):\n",
    "        return np.sqrt(np.sum(np.power(vec_a - vec_b, 2)))\n",
    "    \n",
    "    #随机选取质心\n",
    "    def rand_cent(data_set, k):\n",
    "        dataset_dimension = np.shape(data_set)[1]\n",
    "        center = np.mat(np.zeros((k, dataset_dimension)))\n",
    "        for dimension in range(dataset_dimension):     #按维度进行计算,在该维度现有值的范围内随机选取一个中间值\n",
    "            min_dimen = min(data_set[:, dimension])\n",
    "            max_dimen = max(data_set[:, dimension])\n",
    "            center[:, dimension] = min_dimen + float(max_dimen - min_dimen) * np.random.rand(k,1)\n",
    "        return center\n",
    "    \n",
    "    #训练\n",
    "    def fit(self, data_set, k, dist_method=dist_eclud, cent_method=rand_cent):\n",
    "        #样本数\n",
    "        sample_count = np.shape(data_set)[0]\n",
    "        #结束迭代标记\n",
    "        is_change = True                          \n",
    "        keep_result = np.mat(np.zeros((sample_count, 2)))  \n",
    "        #质心\n",
    "        center_roids = cent_method(data_set, k)    \n",
    "        while is_change:\n",
    "            is_change = False\n",
    "            for sample_index in range(sample_count):\n",
    "                #初始最小值和最小的k类\n",
    "                min_dist, min_index = np.Inf, -1    \n",
    "                for j in range(k):\n",
    "                    #计算该sample到k类质心的距离\n",
    "                    dist_j = dist_method(data_set[sample_index,:], center_roids[j,:]) \n",
    "                    #更新最小值和最小的k类\n",
    "                    if dist_j< min_dist:            \n",
    "                        min_dist , min_index = dist_j , j\n",
    "                #迭代结束判断\n",
    "                if keep_result[sample_index, 0] != min_index:   \n",
    "                    is_change = True\n",
    "                keep_result[sample_index,:] = min_index, min_dist**2   \n",
    "            #更新质心\n",
    "            for cent_index in range(k):\n",
    "                temp_cluster = data_set[np.nonzero(keep_result[:,0].A==cent_index)[0]]\n",
    "                center_roids[cent_index,:] = np.mean(temp_cluster, axis=0)\n",
    "        #返回所有sample的min_index和min_dist\n",
    "        #其实可以不用再用\n",
    "        return  keep_result"
   ]
  },
  {
   "cell_type": "code",
   "execution_count": 272,
   "metadata": {},
   "outputs": [
    {
     "name": "stdout",
     "output_type": "stream",
     "text": [
      "[[ 6.         54.17985833]\n",
      " [ 8.         54.6309746 ]\n",
      " [ 1.         46.52798462]\n",
      " [ 9.         53.31532997]\n",
      " [ 2.         83.89559011]\n",
      " [ 3.         79.61099982]\n",
      " [ 4.         17.05745848]\n",
      " [ 5.         94.99840165]\n",
      " [ 9.         52.9474621 ]\n",
      " [ 1.         48.65413846]\n",
      " [ 9.         48.83334799]\n",
      " [ 1.         62.13875385]\n",
      " [ 6.         47.0590298 ]\n",
      " [ 8.         86.17724326]\n",
      " [ 6.         48.58492163]\n",
      " [ 4.         18.98132945]\n",
      " [ 5.         68.33110307]\n",
      " [ 4.         23.955523  ]\n",
      " [ 8.         61.39515371]\n",
      " [ 8.         49.82948207]]\n"
     ]
    }
   ],
   "source": [
    "model = hand_kmeans()\n",
    "pred = model.fit(test_img_np, 10)\n",
    "print(pred[:20])"
   ]
  },
  {
   "cell_type": "markdown",
   "metadata": {},
   "source": [
    "### 使用 sklearn 实现"
   ]
  },
  {
   "cell_type": "code",
   "execution_count": 273,
   "metadata": {},
   "outputs": [
    {
     "name": "stdout",
     "output_type": "stream",
     "text": [
      "[0 4 7 2 5 4 3 0 1 1 1 7 5 8 0 3 0 3 4 4]\n"
     ]
    }
   ],
   "source": [
    "from sklearn.cluster import KMeans\n",
    "clf = KMeans(n_clusters=10)\n",
    "clf.fit(sixty_x)\n",
    "pred = clf.predict(test_img_np)\n",
    "print(pred[:20])"
   ]
  },
  {
   "cell_type": "markdown",
   "metadata": {},
   "source": [
    "## PCA\n",
    "- Pros：降低数据的复杂性，识别最重要的多个特征\n",
    "- Cons：不一定需要，且可能损失有用信息\n",
    "- 适用数据类型：数值型数据"
   ]
  },
  {
   "cell_type": "markdown",
   "metadata": {},
   "source": [
    "### 手写源码实现 PCA"
   ]
  },
  {
   "cell_type": "code",
   "execution_count": 289,
   "metadata": {},
   "outputs": [],
   "source": [
    "def pca(data_mat, top_n_feat=99999999):\n",
    "    \"\"\" \n",
    "    主成分分析：  \n",
    "    输入：矩阵data_mat ，其中该矩阵中存储训练数据，每一行为一条训练数据  \n",
    "         保留前n个特征top_n_feat，默认全保留\n",
    "    返回：降维后的数据集和原始数据被重构后的矩阵（即降维后反变换回矩阵）\n",
    "    \"\"\"  \n",
    "\n",
    "    # 获取数据条数和每条的维数 \n",
    "    num_data,dim = data_mat.shape  \n",
    "    print(num_data)  # 10000 \n",
    "    print(dim)   # 784\n",
    "\n",
    "    # 数据中心化，即指变量减去它的均值\n",
    "    mean_vals = data_mat.mean(axis=0)  #shape:(784,)\n",
    "    mean_removed = data_mat - mean_vals # shape:(10000, 784)\n",
    "\n",
    "    # 计算协方差矩阵（Find covariance matrix）\n",
    "    cov_mat = np.cov(mean_removed, rowvar=0) # shape：(784, 784)\n",
    "\n",
    "    # 计算特征值(Find eigenvalues and eigenvectors)\n",
    "    eig_vals, eig_vects = np.linalg.eig(np.mat(cov_mat)) # 计算特征值和特征向量，shape分别为（784，）和(784, 784)\n",
    "\n",
    "    eig_val_index = np.argsort(eig_vals)  # 对特征值进行从小到大排序，argsort返回的是索引，即下标\n",
    "\n",
    "    eig_val_index = eig_val_index[:-(top_n_feat + 1) : -1] # 最大的前top_n_feat个特征的索引\n",
    "    # 取前top_n_feat个特征后重构的特征向量矩阵reorganize eig vects, \n",
    "    # shape为(784, top_n_feat)，top_n_feat最大为特征总数\n",
    "    reg_eig_vects = eig_vects[:, eig_val_index] \n",
    "    \n",
    "    # 将数据转到新空间\n",
    "    low_d_data_mat = mean_removed * reg_eig_vects # shape: (100, top_n_feat), top_n_feat最大为特征总数\n",
    "    recon_mat = (low_d_data_mat * reg_eig_vects.T) + mean_vals # 根据前几个特征向量重构回去的矩阵，shape:(100, 784)\n",
    "    \n",
    "    return low_d_data_mat, recon_mat"
   ]
  },
  {
   "cell_type": "code",
   "execution_count": 315,
   "metadata": {},
   "outputs": [
    {
     "name": "stdout",
     "output_type": "stream",
     "text": [
      "10000\n",
      "784\n",
      "(10000, 300)\n",
      "(10000, 784)\n"
     ]
    }
   ],
   "source": [
    "low_d_feat_imgs, recon_mat_imgs = pca(test_img_np, 300)\n",
    "print(low_d_feat_imgs.shape)\n",
    "print(recon_mat_imgs.shape)"
   ]
  },
  {
   "cell_type": "code",
   "execution_count": 316,
   "metadata": {},
   "outputs": [
    {
     "name": "stderr",
     "output_type": "stream",
     "text": [
      "/Users/fangn/anaconda3/lib/python3.7/site-packages/ipykernel_launcher.py:1: ComplexWarning: Casting complex values to real discards the imaginary part\n",
      "  \"\"\"Entry point for launching an IPython kernel.\n"
     ]
    },
    {
     "data": {
      "text/plain": [
       "<matplotlib.image.AxesImage at 0x1a25358b00>"
      ]
     },
     "execution_count": 316,
     "metadata": {},
     "output_type": "execute_result"
    },
    {
     "data": {
      "image/png": "[encoded data removed]",
      "text/plain": [
       "<Figure size 432x288 with 1 Axes>"
      ]
     },
     "metadata": {
      "needs_background": "light"
     },
     "output_type": "display_data"
    }
   ],
   "source": [
    "plt.imshow(recon_mat_imgs.astype(float)[0].reshape(28, 28))"
   ]
  },
  {
   "cell_type": "code",
   "execution_count": 317,
   "metadata": {},
   "outputs": [
    {
     "data": {
      "text/plain": [
       "<matplotlib.image.AxesImage at 0x1a2542b0b8>"
      ]
     },
     "execution_count": 317,
     "metadata": {},
     "output_type": "execute_result"
    },
    {
     "data": {
      "image/png": "[encoded data removed]",
      "text/plain": [
       "<Figure size 432x288 with 1 Axes>"
      ]
     },
     "metadata": {
      "needs_background": "light"
     },
     "output_type": "display_data"
    }
   ],
   "source": [
    "plt.imshow(test_img_np[0].reshape(28,28))"
   ]
  },
  {
   "cell_type": "markdown",
   "metadata": {},
   "source": [
    "### 适用 sklearn 实现 PCA"
   ]
  },
  {
   "cell_type": "code",
   "execution_count": 319,
   "metadata": {},
   "outputs": [
    {
     "data": {
      "text/plain": [
       "PCA(copy=True, iterated_power='auto', n_components=300, random_state=None,\n",
       "  svd_solver='auto', tol=0.0, whiten=False)"
      ]
     },
     "execution_count": 319,
     "metadata": {},
     "output_type": "execute_result"
    }
   ],
   "source": [
    "from sklearn.decomposition import PCA\n",
    "pca = PCA(n_components=300)\n",
    "pca.fit(test_img_np)"
   ]
  },
  {
   "cell_type": "code",
   "execution_count": 320,
   "metadata": {},
   "outputs": [
    {
     "name": "stderr",
     "output_type": "stream",
     "text": [
      "/Users/fangn/anaconda3/lib/python3.7/site-packages/ipykernel_launcher.py:1: ComplexWarning: Casting complex values to real discards the imaginary part\n",
      "  \"\"\"Entry point for launching an IPython kernel.\n"
     ]
    },
    {
     "data": {
      "text/plain": [
       "<matplotlib.image.AxesImage at 0x1a216ca9e8>"
      ]
     },
     "execution_count": 320,
     "metadata": {},
     "output_type": "execute_result"
    },
    {
     "data": {
      "image/png": "[encoded data removed]",
      "text/plain": [
       "<Figure size 432x288 with 1 Axes>"
      ]
     },
     "metadata": {
      "needs_background": "light"
     },
     "output_type": "display_data"
    }
   ],
   "source": [
    "plt.imshow(recon_mat_imgs.astype(float)[0].reshape(28, 28))"
   ]
  },
  {
   "cell_type": "code",
   "execution_count": null,
   "metadata": {},
   "outputs": [],
   "source": []
  }
 ],
 "metadata": {
  "kernelspec": {
   "display_name": "Python 3",
   "language": "python",
   "name": "python3"
  },
  "language_info": {
   "codemirror_mode": {
    "name": "ipython",
    "version": 3
   },
   "file_extension": ".py",
   "mimetype": "text/x-python",
   "name": "python",
   "nbconvert_exporter": "python",
   "pygments_lexer": "ipython3",
   "version": "3.7.1"
  }
 },
 "nbformat": 4,
 "nbformat_minor": 2
}
