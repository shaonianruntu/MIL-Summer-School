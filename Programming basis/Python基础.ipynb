{
 "cells": [
  {
   "cell_type": "markdown",
   "metadata": {},
   "source": [
    "# Python 快速入门\n",
    "\n",
    "本教程由 Stanford CS231n 课程笔记 [Python Numpy Tutorial](https://cs231n.github.io/python-numpy-tutorial/) 演绎而来，原作者为 [Justin Johnson](http://cs.stanford.edu/people/jcjohns/)，译者为[杜客](https://zhuanlan.zhihu.com/p/20878530), 助教在原有内容的基础上进行了修改:\n",
    "\n",
    "- 由 Python 2.7 代码升级到 Python 3 代码\n",
    "- 在最后添加了一些进阶学习的内容\n",
    "- 关于 Numpy 理解 Axis 的文章请仔细阅读\n",
    "\n",
    "我们将在本课程中将 Python 编程语言用于所有作业。Python 本身就是一种很棒的通用编程语言，在一些流行的库如 Numpy, Scipy 和 Matplotlib 的帮助下，它能够提供强大的科学计算环境。同时我们希望一部分的学生具备一些 Python 和 Numpy 的相关经验；对于零基础的同学，这一小节会作为 Python 编程语言和 Python 科学计算环境的速成课程。\n",
    "\n",
    "## Python 简介\n",
    "\n",
    "Python 是一种高级，动态类型的多范式编程语言。通常 Python 代码几乎被认为和伪代码一样，因为它允许你在非常少的代码行中实现非常强大的想法，同时具有很强的可读性。作为示例，下面是 Python 中经典快速排序算法的实现："
   ]
  },
  {
   "cell_type": "code",
   "execution_count": null,
   "metadata": {},
   "outputs": [],
   "source": [
    "def quicksort(arr):\n",
    "    if len(arr) <= 1:\n",
    "        return arr\n",
    "    pivot = arr[len(arr) // 2]\n",
    "    left = [x for x in arr if x < pivot]\n",
    "    middle = [x for x in arr if x == pivot]\n",
    "    right = [x for x in arr if x > pivot]\n",
    "    return quicksort(left) + middle + quicksort(right)\n",
    "\n",
    "print(quicksort([3,6,8,10,1,2,1]))\n",
    "# 输出 \"[1, 1, 2, 3, 6, 8, 10]\""
   ]
  },
  {
   "cell_type": "markdown",
   "metadata": {},
   "source": [
    "## Python 版本\n",
    "Python 2.7 版本将于 2020 年不再提供官方维护，在本门课程中建议使用 3.5 以上的版本。由于Python 3.0 引入了许多向后兼容的语言变化，因此使用 2.7 版本编写的代码可能无法在 3.5 以上的版本下运行，反之亦然。现在通过 `__future__` 模块，可以在诸如 2.7 的较早期的 Python 版本下使用新版 Python 的特性。\n",
    "\n",
    "你可以使用下面的代码检查当前的 Python 版本(高于 3.5 即可)："
   ]
  },
  {
   "cell_type": "code",
   "execution_count": null,
   "metadata": {},
   "outputs": [],
   "source": [
    "!python --version"
   ]
  },
  {
   "cell_type": "markdown",
   "metadata": {},
   "source": [
    "## 基础数据类型\n",
    "\n",
    "与大多数编程语言一样，Python 有许多基本类型，包括整数，浮点数，布尔值和字符串。这些数据类型的工作方式与其他编程语言相似。\n",
    "\n",
    "**数字：**整数和浮点数的使用方式与其他语言类似："
   ]
  },
  {
   "cell_type": "code",
   "execution_count": null,
   "metadata": {
    "slideshow": {
     "slide_type": "-"
    }
   },
   "outputs": [],
   "source": [
    "x = 3\n",
    "print(type(x)) # 输出 \"<class 'int'>\"\n",
    "print(x)       # 输出 \"3\"\n",
    "print(x + 1)   # 加法; 输出 \"4\"\n",
    "print(x - 1)   # 减法; 输出 \"2\"\n",
    "print(x * 2)   # 乘法; 输出 \"6\"\n",
    "print(x ** 2)  # 幂运算; 输出 \"9\"\n",
    "\n",
    "x += 1\n",
    "print(x)  # 输出 \"4\"\n",
    "\n",
    "x *= 2\n",
    "print(x)  # 输出 \"8\"\n",
    "\n",
    "y = 2.5\n",
    "print(type(y)) # 输出 \"<class 'float'>\"\n",
    "print(y, y + 1, y * 2, y ** 2) # 输出 \"2.5 3.5 5.0 6.25\""
   ]
  },
  {
   "cell_type": "markdown",
   "metadata": {},
   "source": [
    "需要注意的是，与其它语言不同，Python 不支持自增 `x++` 和自减运算 `x--`.\n",
    "Python 也有内置的复数类型，具体细节可以查看[文档](https://docs.python.org/3.7/library/stdtypes.html#numeric-types-int-float-complex).\n",
    "\n",
    "**布尔型：**Python 实现了所有的布尔逻辑，但用的是英语，而不是我们习惯的操作符(比如 `&&`和 `||` 等)."
   ]
  },
  {
   "cell_type": "code",
   "execution_count": null,
   "metadata": {},
   "outputs": [],
   "source": [
    "t = True\n",
    "f = False\n",
    "print(type(t)) # 输出 \"<class 'bool'>\"\n",
    "print(t and f) # 逻辑与 AND; 输出 \"False\"\n",
    "print(t or f)  # 逻辑或 OR; 输出 \"True\"\n",
    "print(not t)   # 逻辑非 NOT; 输出 \"False\"\n",
    "print(t != f)  # 逻辑异或 XOR; 输出 \"True\"  "
   ]
  },
  {
   "cell_type": "markdown",
   "metadata": {},
   "source": [
    "**字符串：**Python 对字符串的支持非常棒。"
   ]
  },
  {
   "cell_type": "code",
   "execution_count": null,
   "metadata": {},
   "outputs": [],
   "source": [
    "hello = 'hello'   # 字符串可以使用单引号\n",
    "world = \"world\"   # 或者双引号; 区别不大\n",
    "print(hello)       # 输出 \"hello\"\n",
    "print(len(hello))  # 字符串长度; 输出 \"5\"\n",
    "hw = hello + ' ' + world  # 字符串连接\n",
    "print(hw)  # 输出 \"hello world\"\n",
    "hw12 = '%s %s %d' % (hello, world, 12)  # sprintf 风格的字符串格式化\n",
    "print(hw12)  # 输出 \"hello world 12\""
   ]
  },
  {
   "cell_type": "markdown",
   "metadata": {},
   "source": [
    "字符串对象有一系列有用的方法，比如："
   ]
  },
  {
   "cell_type": "code",
   "execution_count": null,
   "metadata": {},
   "outputs": [],
   "source": [
    "s = \"hello\"\n",
    "print(s.capitalize())  # 将字符串首字母大写; 输出 \"Hello\"\n",
    "print(s.upper())       # 将字符串转换为大写; 输出 \"HELLO\"\n",
    "print(s.rjust(7))      # 右对齐字符串，填充空格; 输出 \"  hello\"\n",
    "print(s.center(7))     # 将字符串居中，多余位置用空格填充; 输出 \" hello \"\n",
    "print(s.replace('l', '(ell)'))  # 用一个子串代替另一个子串;\n",
    "                                # 输出 \"he(ell)(ell)o\"\n",
    "print('  world '.strip())  # 去掉前面和后面的空格; 输出 \"world\""
   ]
  },
  {
   "cell_type": "markdown",
   "metadata": {},
   "source": [
    "如果想详细查看字符串方法，请看[文档](https://docs.python.org/3.7/library/stdtypes.html#string-methods)。"
   ]
  },
  {
   "cell_type": "markdown",
   "metadata": {},
   "source": [
    "## 容器(Containers)\n",
    "\n",
    "Python 有以下几种容器类型：列表(lists)、字典(dictionaries)、集合(sets)和元组(tuples).\n",
    "\n",
    "### 列表(Lists)\n",
    "\n",
    "列表就是 Python 中的数组，但是列表长度可变，且能包含不同类型元素。"
   ]
  },
  {
   "cell_type": "code",
   "execution_count": null,
   "metadata": {},
   "outputs": [],
   "source": [
    "xs = [3, 1, 2]    # 创建列表\n",
    "print(xs, xs[2])  # 输出 \"[3, 1, 2] 2\"，从 0 开始索引\n",
    "print(xs[-1])     # 负索引表示从列表末尾开始; 输出 \"2\"\n",
    "xs[2] = 'foo'     # 列表可以包含不同类型的元素\n",
    "print(xs)         # 输出 \"[3, 1, 'foo']\"\n",
    "xs.append('bar')  # 在列表末尾添加一个新元素\n",
    "print(xs)         # 输出 \"[3, 1, 'foo', 'bar']\"\n",
    "x = xs.pop()      # 删除并返回列表的最后一个元素\n",
    "print(x, xs)      # 输出 \"bar [3, 1, 'foo']\""
   ]
  },
  {
   "cell_type": "markdown",
   "metadata": {},
   "source": [
    "列表的细节，同样可以查阅[文档](https://docs.python.org/3.7/tutorial/datastructures.html#more-on-lists)。"
   ]
  },
  {
   "cell_type": "markdown",
   "metadata": {},
   "source": [
    "**切片(Slicing)**: 为了一次性地获取列表中的元素，Python 提供了一种简洁的语法，这就是切片。下面使用了 `range` 内置函数，注意区别，Python2 中的 `range` 返回的是一个列表，Python3 中的 `range` 返回的是一个迭代值，需要用 `list` 形成列表。"
   ]
  },
  {
   "cell_type": "code",
   "execution_count": null,
   "metadata": {},
   "outputs": [],
   "source": [
    "nums = list(range(5))  \n",
    "print(nums)         # 输出 \"[0, 1, 2, 3, 4]\"\n",
    "print(nums[2:4])    # 获得索引 [2,4) 切片; 输出 \"[2, 3]\"\n",
    "print(nums[2:])     # 获得索引 [2,末尾] 切片; 输出 \"[2, 3, 4]\"\n",
    "print(nums[:2])     # 获得索引 [起始,2) 切片; 输出 \"[0, 1]\"\n",
    "print(nums[:])      # 获得整个列表的切片; 输出 [\"0, 1, 2, 3, 4]\"\n",
    "print(nums[:-1])    # 切片中的参数也可是负数; 输出 [\"0, 1, 2, 3]\"\n",
    "nums[2:4] = [8, 9]  # 为切片分配新的子列表\n",
    "print(nums)         # 输出 \"[0, 1, 8, 9, 4]\""
   ]
  },
  {
   "cell_type": "markdown",
   "metadata": {},
   "source": [
    "在 Numpy 数组的内容中，我们会再次看到切片语法。\n",
    "\n",
    "**循环(Loops)**: 我们可以这样遍历列表中的每一个元素："
   ]
  },
  {
   "cell_type": "code",
   "execution_count": null,
   "metadata": {},
   "outputs": [],
   "source": [
    "animals = ['cat', 'dog', 'monkey']\n",
    "for animal in animals:\n",
    "    print(animal)\n",
    "# 输出 \"cat\", \"dog\", \"monkey\", 每个占一行"
   ]
  },
  {
   "cell_type": "markdown",
   "metadata": {},
   "source": [
    "如果想要在循环体内访问每个元素的指针，可以使用内置的 `enumerate` 函数："
   ]
  },
  {
   "cell_type": "code",
   "execution_count": null,
   "metadata": {},
   "outputs": [],
   "source": [
    "animals = ['cat', 'dog', 'monkey']\n",
    "for idx, animal in enumerate(animals):\n",
    "    print('#%d: %s' % (idx + 1, animal))\n",
    "# 输出 \"#1: cat\", \"#2: dog\", \"#3: monkey\", 每个占一行"
   ]
  },
  {
   "cell_type": "markdown",
   "metadata": {},
   "source": [
    "列表推导(List comprehensions): 在编程的时候，我们常常想要将一种数据类型转换为另一种。下面是一个简单例子，将列表中的每个元素变成它的平方。"
   ]
  },
  {
   "cell_type": "code",
   "execution_count": null,
   "metadata": {},
   "outputs": [],
   "source": [
    "nums = [0, 1, 2, 3, 4]\n",
    "squares = []\n",
    "for x in nums:\n",
    "    squares.append(x ** 2)\n",
    "print(squares)   # 输出 [0, 1, 4, 9, 16]"
   ]
  },
  {
   "cell_type": "markdown",
   "metadata": {},
   "source": [
    "使用列表推导，你就可以让代码简化很多："
   ]
  },
  {
   "cell_type": "code",
   "execution_count": null,
   "metadata": {},
   "outputs": [],
   "source": [
    "nums = [0, 1, 2, 3, 4]\n",
    "squares = [x ** 2 for x in nums]\n",
    "print(squares)   # 输出 [0, 1, 4, 9, 16]"
   ]
  },
  {
   "cell_type": "markdown",
   "metadata": {},
   "source": [
    "列表推导还可以包含条件："
   ]
  },
  {
   "cell_type": "code",
   "execution_count": null,
   "metadata": {},
   "outputs": [],
   "source": [
    "nums = [0, 1, 2, 3, 4]\n",
    "even_squares = [x ** 2 for x in nums if x % 2 == 0]\n",
    "print(even_squares)  # 输出 \"[0, 4, 16]\""
   ]
  },
  {
   "cell_type": "markdown",
   "metadata": {},
   "source": [
    "### 字典(Dictionaries)\n",
    "\n",
    "字典用来储存 `(key, value)` 对，这和 Java 中的 Map 差不多。你可以这样使用它："
   ]
  },
  {
   "cell_type": "code",
   "execution_count": null,
   "metadata": {},
   "outputs": [],
   "source": [
    "d = {'cat': 'cute', 'dog': 'furry'}  # 用一些数据创建一个新字典\n",
    "print(d['cat'])       # 从字典中获取条目; 输出 \"cute\"\n",
    "print('cat' in d)     # 检查字典是否有给定的键; 输出 \"True\"\n",
    "d['fish'] = 'wet'     # 在字典中设置条目\n",
    "print(d['fish'])      # 输出 \"wet\"\n",
    "# print(d['monkey'])  # KeyError: 'monkey' not a key of d\n",
    "print(d.get('monkey', 'N/A'))  # 获取具有默认值的元素; 输出 \"N/A\"\n",
    "print(d.get('fish', 'N/A'))    # 获取具有默认值的元素; 输出 \"wet\"\n",
    "del d['fish']         # 从字典中删除一个元素\n",
    "print(d.get('fish', 'N/A'))    # \"fish\" 不再是一个键; 输出 \"N/A\""
   ]
  },
  {
   "cell_type": "markdown",
   "metadata": {},
   "source": [
    "想要知道字典的其他特性，请查阅[文档](https://docs.python.org/2/library/stdtypes.html#dict)。"
   ]
  },
  {
   "cell_type": "markdown",
   "metadata": {},
   "source": [
    "**循环(Loops):** 在字典中，用键来迭代更加容易。"
   ]
  },
  {
   "cell_type": "code",
   "execution_count": null,
   "metadata": {},
   "outputs": [],
   "source": [
    "d = {'person': 2, 'cat': 4, 'spider': 8}\n",
    "for animal in d:\n",
    "    legs = d[animal]\n",
    "    print('A %s has %d legs' % (animal, legs))\n",
    "# 输出 \"A person has 2 legs\", \"A spider has 8 legs\", \"A cat has 4 legs\""
   ]
  },
  {
   "cell_type": "markdown",
   "metadata": {},
   "source": [
    "如果你想要访问键和对应的值，那就使用 `items` 方法："
   ]
  },
  {
   "cell_type": "code",
   "execution_count": null,
   "metadata": {},
   "outputs": [],
   "source": [
    "d = {'person': 2, 'cat': 4, 'spider': 8}\n",
    "for animal, legs in d.items():\n",
    "    print('A %s has %d legs' % (animal, legs))\n",
    "# 输出 \"A person has 2 legs\", \"A spider has 8 legs\", \"A cat has 4 legs\""
   ]
  },
  {
   "cell_type": "markdown",
   "metadata": {},
   "source": [
    "**字典推导(Dictionary comprehensions)**: 和列表推导类似，但是允许你方便地构建字典。"
   ]
  },
  {
   "cell_type": "code",
   "execution_count": null,
   "metadata": {},
   "outputs": [],
   "source": [
    "nums = [0, 1, 2, 3, 4]\n",
    "even_num_to_square = {x: x ** 2 for x in nums if x % 2 == 0}\n",
    "print(even_num_to_square)  # 输出 \"{0: 0, 2: 4, 4: 16}\""
   ]
  },
  {
   "cell_type": "markdown",
   "metadata": {},
   "source": [
    "### 集合(Sets)\n",
    "\n",
    "集合是独立不同个体的无序集合。示例如下："
   ]
  },
  {
   "cell_type": "code",
   "execution_count": null,
   "metadata": {},
   "outputs": [],
   "source": [
    "animals = {'cat', 'dog'}\n",
    "print('cat' in animals)   # 检查一个元素是否在一个集合中; 输出 \"True\"\n",
    "print('fish' in animals)  # 输出 \"False\"\n",
    "animals.add('fish')       # 向集合中添加一个元素\n",
    "print('fish' in animals)  # 输出 \"True\"\n",
    "print(len(animals))       # 集合中元素的个数; 输出 \"3\"\n",
    "animals.add('cat')        # 添加集合中已经存在的元素没有任何作用\n",
    "print(len(animals))       # 输出 \"3\"\n",
    "animals.remove('cat')     # 从集合中移除一个元素\n",
    "print(len(animals))       # 输出 \"2\""
   ]
  },
  {
   "cell_type": "markdown",
   "metadata": {},
   "source": [
    "和前面一样，要知道更详细的，查看[文档](https://docs.python.org/3.7/library/sets.html#set-objects)。\n",
    "\n",
    "**循环(Loops):** 在集合中循环的语法和在列表中一样，但是集合是无序的，所以你在访问集合的元素的时候，不能做关于顺序的假设。"
   ]
  },
  {
   "cell_type": "code",
   "execution_count": null,
   "metadata": {},
   "outputs": [],
   "source": [
    "animals = {'cat', 'dog', 'fish'}\n",
    "for idx, animal in enumerate(animals):\n",
    "    print('#%d: %s' % (idx + 1, animal))\n",
    "# 不能假设输出 \"#1: cat\", \"#2: dog\", \"#3: fish\""
   ]
  },
  {
   "cell_type": "markdown",
   "metadata": {},
   "source": [
    "**集合推导(Set comprehensions)**: 和字典推导一样，可以很方便地构建集合："
   ]
  },
  {
   "cell_type": "code",
   "execution_count": null,
   "metadata": {},
   "outputs": [],
   "source": [
    "from math import sqrt\n",
    "nums = {int(sqrt(x)) for x in range(30)}\n",
    "print(nums)  # 输出 \"([0, 1, 2, 3, 4, 5])\""
   ]
  },
  {
   "cell_type": "markdown",
   "metadata": {},
   "source": [
    "### 元组(Tuples)\n",
    "\n",
    "元组是一个值的有序列表（不可改变）。从很多方面来说，元组和列表都很相似。和列表最重要的不同在于，元组可以在字典中用作键，还可以作为集合的元素，而列表不行。例子如下："
   ]
  },
  {
   "cell_type": "code",
   "execution_count": null,
   "metadata": {},
   "outputs": [],
   "source": [
    "d = {(x, x + 1): x for x in range(10)}  # 使用元组作为键创建字典\n",
    "print(d)\n",
    "t = (5, 6)        # 创建一个元组\n",
    "print(type(t))    # 输出 \"<class 'tuple'>\"\n",
    "print(d[t])       # 输出 \"5\"\n",
    "print(d[(1, 2)])  # 输出 \"1\""
   ]
  },
  {
   "cell_type": "markdown",
   "metadata": {},
   "source": [
    "[文档](https://docs.python.org/3.7/tutorial/datastructures.html#tuples-and-sequences)有更多元组的信息。"
   ]
  },
  {
   "cell_type": "markdown",
   "metadata": {},
   "source": [
    "## 函数(Functions)\n",
    "\n",
    "Python 函数使用 `def` 来定义函数："
   ]
  },
  {
   "cell_type": "code",
   "execution_count": null,
   "metadata": {},
   "outputs": [],
   "source": [
    "def sign(x):\n",
    "    if x > 0:\n",
    "        return 'positive'\n",
    "    elif x < 0:\n",
    "        return 'negative'\n",
    "    else:\n",
    "        return 'zero'\n",
    "\n",
    "for x in [-1, 0, 1]:\n",
    "    print(sign(x))\n",
    "# 输出 \"negative\", \"zero\", \"positive\""
   ]
  },
  {
   "cell_type": "markdown",
   "metadata": {},
   "source": [
    "我们常常使用可选参数来定义函数："
   ]
  },
  {
   "cell_type": "code",
   "execution_count": null,
   "metadata": {},
   "outputs": [],
   "source": [
    "def hello(name, loud=False):\n",
    "    if loud:\n",
    "        print('HELLO, %s' % name.upper())\n",
    "    else:\n",
    "        print('Hello, %s!' % name)\n",
    "\n",
    "hello('Bob') # 输出 \"Hello, Bob\"\n",
    "hello('Fred', loud=True)  # 输出 \"HELLO, FRED!\""
   ]
  },
  {
   "cell_type": "markdown",
   "metadata": {},
   "source": [
    "## 类(Classes)\n",
    "\n",
    "Python 对于类的定义是简单直接的："
   ]
  },
  {
   "cell_type": "code",
   "execution_count": null,
   "metadata": {},
   "outputs": [],
   "source": [
    "class Greeter(object):\n",
    "\n",
    "    # 构造函数\n",
    "    def __init__(self, name):\n",
    "        self.name = name  # 创建实例变量\n",
    "\n",
    "    # 实例方法\n",
    "    def greet(self, loud=False):\n",
    "        if loud:\n",
    "            print('HELLO, %s!' % self.name.upper())\n",
    "        else:\n",
    "            print('Hello, %s' % self.name)\n",
    "\n",
    "g = Greeter('Fred')  # 构造 Greeter 类的实例\n",
    "g.greet()            # 调用实例方法; 输出 \"Hello, Fred\"\n",
    "g.greet(loud=True)   # 调用实例方法; 输出 \"HELLO, FRED!\""
   ]
  },
  {
   "cell_type": "markdown",
   "metadata": {},
   "source": [
    "更多类的信息请查阅[文档](https://docs.python.org/3.7/tutorial/classes.html)。\n",
    "\n",
    "# Numpy 快速入门\n",
    "\n",
    "Numpy 是 Python 中用于科学计算的核心库。它提供了高性能的多维数组对象，以及相关工具。"
   ]
  },
  {
   "cell_type": "code",
   "execution_count": null,
   "metadata": {},
   "outputs": [],
   "source": [
    "import numpy as np"
   ]
  },
  {
   "cell_type": "markdown",
   "metadata": {},
   "source": [
    "## 数组(Arrays)\n",
    "\n",
    "一个 Numpy 数组是一个由不同数值组成的网格。网格中的数据都是同一种数据类型，可以通过非负整型数的元组来访问。维度的数量被称为数组的阶，数组的大小是一个由整型数构成的元组，可以描述数组不同维度上的大小。\n",
    "\n",
    "我们可以从列表创建数组，然后利用方括号访问其中的元素："
   ]
  },
  {
   "cell_type": "code",
   "execution_count": null,
   "metadata": {},
   "outputs": [],
   "source": [
    "a = np.array([1, 2, 3])   # 创建秩为 1 的数组，即向量\n",
    "print(type(a))            # 输出 \"<class 'numpy.ndarray'>\"\n",
    "print(a.shape)            # 输出 \"(3,)\"\n",
    "print(a[0], a[1], a[2])   # 输出 \"1 2 3\"\n",
    "a[0] = 5                  # 改变数组中的元素\n",
    "print(a)                  # 输出 \"[5, 2, 3]\"\n",
    "\n",
    "b = np.array([[1,2,3],[4,5,6]])    # 创建秩为 2 的数组，即矩阵\n",
    "print(b)                           # 输出矩阵 b\n",
    "print(b.shape)                     # 输出 \"(2, 3)\"\n",
    "print(b[0, 0], b[0, 1], b[1, 0])   # 输出 \"1 2 4\""
   ]
  },
  {
   "cell_type": "markdown",
   "metadata": {},
   "source": [
    "Numpy 还提供了很多其他创建数组的方法："
   ]
  },
  {
   "cell_type": "code",
   "execution_count": null,
   "metadata": {},
   "outputs": [],
   "source": [
    "a = np.zeros((2,2))  # 创建元素全为 0 的数组\n",
    "print(a)             # 输出 \"[[ 0.  0.]\n",
    "                     #          [ 0.  0.]]\"\n",
    "\n",
    "b = np.ones((1,2))   # 创建元素全为 1 的数组\n",
    "print(b)             # 输出 \"[[ 1.  1.]]\"\n",
    "\n",
    "c = np.full((2,2), 7) # 创建一个常量数组\n",
    "print(c)              # 输出 \"[[ 7.  7.]\n",
    "                      #          [ 7.  7.]]\"\n",
    "\n",
    "d = np.eye(2)        # 创建一个 2x2 单位矩阵\n",
    "print(d)             # 输出 \"[[ 1.  0.]\n",
    "                     #          [ 0.  1.]]\"\n",
    "\n",
    "e = np.random.random((2,2)) # 创建一个包含随机值的数组\n",
    "print(e)                    # 可能输出 \"[[ 0.91940167  0.08143941]\n",
    "                            #               [ 0.68744134  0.87236687]]\""
   ]
  },
  {
   "cell_type": "markdown",
   "metadata": {},
   "source": [
    "其他数组相关方法，请查看[文档](http://docs.scipy.org/doc/numpy/user/basics.creation.html#arrays-creation)。\n",
    "\n",
    "### 访问数组\n",
    "Numpy 提供了多种访问数组的方法。\n",
    "\n",
    "**切片：**和 Python 列表类似，Numpy 数组可以使用切片语法。因为数组可以是多维的，所以你必须为每个维度指定好切片。"
   ]
  },
  {
   "cell_type": "code",
   "execution_count": null,
   "metadata": {},
   "outputs": [],
   "source": [
    "# 创建形状为 (3, 4) 的秩为 2 的数组，如下所示\n",
    "# [[ 1  2  3  4]\n",
    "#  [ 5  6  7  8]\n",
    "#  [ 9 10 11 12]]\n",
    "a = np.array([[1,2,3,4], [5,6,7,8], [9,10,11,12]])\n",
    "\n",
    "# 使用切片来提取由前两行和索引为 1,2 列组成的子数组\n",
    "# b 是形状为 (2, 2) 的数组，如下所示\n",
    "# [[2 3]\n",
    "#  [6 7]]\n",
    "b = a[:2, 1:3]\n",
    "\n",
    "# 数组的一个切片是指向相同数据的视图，因此如果修改它\n",
    "# 也将修改原始数组\n",
    "print(a[0, 1])   # 输出 \"2\"\n",
    "b[0, 0] = 77    # b[0, 0] 和 a[0, 1] 位置的数据一致\n",
    "print(a[0, 1])   # 输出 \"77\""
   ]
  },
  {
   "cell_type": "markdown",
   "metadata": {},
   "source": [
    "你可以同时使用整型和切片语法来访问数组。但是，这样做会产生一个比原数组低阶的新数组。需要注意的是，这里和 MATLAB 中的情况是不同的："
   ]
  },
  {
   "cell_type": "code",
   "execution_count": null,
   "metadata": {},
   "outputs": [],
   "source": [
    "# 创建形状为 (3, 4) 的秩为 2 的数组，如下所示\n",
    "# [[ 1  2  3  4]\n",
    "#  [ 5  6  7  8]\n",
    "#  [ 9 10 11 12]]\n",
    "a = np.array([[1,2,3,4], [5,6,7,8], [9,10,11,12]])\n",
    "\n",
    "# 访问数组中行数据的两种方法。\n",
    "# 将整数索引和切片混合在一起会得到一个级别较低的数组，\n",
    "# 当只使用切片时，将生成与原始数组相同秩的数组:\n",
    "row_r1 = a[1, :]    # 秩为 1 的 a 的第二行的视图  \n",
    "row_r2 = a[1:2, :]  # 秩为 2 的 a 的第二行的视图  \n",
    "print(row_r1, row_r1.shape)  # 输出 \"[5 6 7 8] (4,)\"\n",
    "print(row_r2, row_r2.shape)  # 输出 \"[[5 6 7 8]] (1, 4)\"\n",
    "\n",
    "# 我们可以在访问数组的列时做同样的区分:\n",
    "col_r1 = a[:, 1]\n",
    "col_r2 = a[:, 1:2]\n",
    "print(col_r1, col_r1.shape)  # 输出 \"[ 2  6 10] (3,)\"\n",
    "print(col_r2, col_r2.shape)  # 输出 \"[[ 2]\n",
    "                            #          [ 6]\n",
    "                            #          [10]] (3, 1)\""
   ]
  },
  {
   "cell_type": "markdown",
   "metadata": {},
   "source": [
    "**整型数组访问：**当我们使用切片语法访问数组时，得到的总是原数组的一个子集。整型数组访问允许我们利用其它数组的数据构建一个新的数组："
   ]
  },
  {
   "cell_type": "code",
   "execution_count": null,
   "metadata": {},
   "outputs": [],
   "source": [
    "a = np.array([[1,2], [3, 4], [5, 6]])\n",
    "\n",
    "# 整型数组索引的一个例子。\n",
    "# 返回的数组将具有 (3,) 并输出 \"[1 4 5]\"\n",
    "print(a[[0, 1, 2], [0, 1, 0]])\n",
    "\n",
    "# 上面的整型数组索引示例与此等价:\n",
    "print(np.array([a[0, 0], a[1, 1], a[2, 0]]))  # 输出 \"[1 4 5]\"\n",
    "\n",
    "# 使用整型数组索引时，可以重用原数组中的相同元素:\n",
    "print(a[[0, 0], [1, 1]])  # Prints \"[2 2]\"\n",
    "\n",
    "# 等价于前面的整数数组索引示例\n",
    "print(np.array([a[0, 1], a[0, 1]]))  # Prints \"[2 2]\""
   ]
  },
  {
   "cell_type": "markdown",
   "metadata": {},
   "source": [
    "整型数组访问语法还有个有用的技巧，可以用来选择或者更改矩阵中每行中的一个元素："
   ]
  },
  {
   "cell_type": "code",
   "execution_count": null,
   "metadata": {},
   "outputs": [],
   "source": [
    "# 创建一个新数组，从中选择元素\n",
    "a = np.array([[1,2,3], [4,5,6], [7,8,9], [10, 11, 12]])\n",
    "\n",
    "print(a) # 输出   \"array([[ 1,  2,  3],\n",
    "         #                [ 4,  5,  6],\n",
    "         #                [ 7,  8,  9],\n",
    "         #                [10, 11, 12]])\"\n",
    "\n",
    "# 创建索引数组\n",
    "b = np.array([0, 2, 0, 1])\n",
    "\n",
    "# 使用 b 中的索引从 a 的每一行中选择一个元素\n",
    "print(a[np.arange(4), b])  # 输出 \"[ 1  6  7 11]\"\n",
    "\n",
    "# 使用 b 中的索引从 a 的每一行中修改一个元素\n",
    "a[np.arange(4), b] += 10\n",
    "\n",
    "print(a) # 输出    \"array([[11,  2,  3],\n",
    "         #                [ 4,  5, 16],\n",
    "         #                [17,  8,  9],\n",
    "         #                [10, 21, 12]])"
   ]
  },
  {
   "cell_type": "markdown",
   "metadata": {},
   "source": [
    "**布尔型数组访问：**布尔型数组访问可以让你选择数组中任意元素。通常，这种访问方式用于选取数组中满足某些条件的元素，举例如下："
   ]
  },
  {
   "cell_type": "code",
   "execution_count": null,
   "metadata": {},
   "outputs": [],
   "source": [
    "a = np.array([[1,2], [3, 4], [5, 6]])\n",
    "\n",
    "bool_idx = (a > 2)  # 找出 a 中大于 2 的元素;\n",
    "                    # 这将返回布尔值表示的 Numpy 数组\n",
    "                    # 形状和 a 相同, bool_idx 每个槽表示对应 a 的元素是否 > 2\n",
    "\n",
    "print(bool_idx)     # 输出   \"[[False False]\n",
    "                    #          [ True  True]\n",
    "                    #          [ True  True]]\"\n",
    "\n",
    "# 我们使用布尔数组索引来构造一个秩为 1 的数组\n",
    "# 由对应于 bool_idx 的真值的 a 的元素组成\n",
    "print(a[bool_idx])  # 输出   \"[3 4 5 6]\"\n",
    "\n",
    "# 我们可以用一个简洁的声明做到同样的效果:\n",
    "print(a[a > 2])     # 输出   \"[3 4 5 6]\""
   ]
  },
  {
   "cell_type": "markdown",
   "metadata": {},
   "source": [
    "为了教程简洁，有很多数组访问的细节我们没有详细说明，可以查看[文档](http://docs.scipy.org/doc/numpy/reference/arrays.indexing.html)。\n",
    "\n",
    "### 数据类型\n",
    "每个 Numpy 数组都是数据类型相同的元素组成的网格。Numpy 提供了很多的数据类型用于创建数组。当你创建数组的时候，Numpy 会尝试猜测数组的数据类型，你也可以通过参数直接指定数据类型，例子如下："
   ]
  },
  {
   "cell_type": "code",
   "execution_count": null,
   "metadata": {},
   "outputs": [],
   "source": [
    "x = np.array([1, 2])  # 让 Numpy 选择数据类型\n",
    "print(x.dtype)        # 输出 \"int64\"\n",
    "\n",
    "x = np.array([1.0, 2.0])   # 让 Numpy 选择数据类型\n",
    "print(x.dtype)             # 输出 \"float64\"\n",
    "\n",
    "x = np.array([1, 2], dtype=np.int64)   # 强制使用特定的数据类型\n",
    "print(x.dtype)                         # 输出 \"int64\""
   ]
  },
  {
   "cell_type": "markdown",
   "metadata": {},
   "source": [
    "更多细节查看[文档](http://docs.scipy.org/doc/numpy/reference/arrays.dtypes.html)。\n",
    "\n",
    "### 数组计算\n",
    "\n",
    "基本数学计算函数会对数组中元素逐个进行计算，既可以利用操作符重载，也可以使用函数方式："
   ]
  },
  {
   "cell_type": "code",
   "execution_count": null,
   "metadata": {},
   "outputs": [],
   "source": [
    "x = np.array([[1,2],[3,4]], dtype=np.float64)\n",
    "y = np.array([[5,6],[7,8]], dtype=np.float64)\n",
    "\n",
    "# 元素间求和；均会产生数组\n",
    "# [[ 6.0  8.0]\n",
    "#  [10.0 12.0]]\n",
    "print(x + y)\n",
    "print(np.add(x, y))\n",
    "\n",
    "# 元素间求差；均会产生数组\n",
    "# [[-4.0 -4.0]\n",
    "#  [-4.0 -4.0]]\n",
    "print(x - y)\n",
    "print(np.subtract(x, y))\n",
    "\n",
    "# 元素间乘法；均会产生数组\n",
    "# [[ 5.0 12.0]\n",
    "#  [21.0 32.0]]\n",
    "print(x * y)\n",
    "print(np.multiply(x, y))\n",
    "\n",
    "# 元素间除法；均会产生数组\n",
    "# [[ 0.2         0.33333333]\n",
    "#  [ 0.42857143  0.5       ]]\n",
    "print(x / y)\n",
    "print(np.divide(x, y))\n",
    "\n",
    "# 元素开根 ；产生数组\n",
    "# [[ 1.          1.41421356]\n",
    "#  [ 1.73205081  2.        ]]\n",
    "print(np.sqrt(x))"
   ]
  },
  {
   "cell_type": "markdown",
   "metadata": {},
   "source": [
    "和 MATLAB 不同，`*` 是元素逐个相乘，而不是矩阵乘法。在 Numpy 中使用 `dot` 来进行矩阵乘法："
   ]
  },
  {
   "cell_type": "code",
   "execution_count": null,
   "metadata": {},
   "outputs": [],
   "source": [
    "x = np.array([[1,2],[3,4]])\n",
    "y = np.array([[5,6],[7,8]])\n",
    "\n",
    "v = np.array([9,10])\n",
    "w = np.array([11, 12])\n",
    "\n",
    "# 向量内积; 均会产生 219\n",
    "print(v.dot(w))\n",
    "print(np.dot(v, w))\n",
    "\n",
    "# 矩阵 / 向量乘积; 均会产生秩为 1 的数组 [29 67]\n",
    "print(x.dot(v))\n",
    "print(np.dot(x, v))\n",
    "\n",
    "# 矩阵 / 向量乘积; 均会产生秩为 2 的数组\n",
    "# [[19 22]\n",
    "#  [43 50]]\n",
    "print(x.dot(y))\n",
    "print(np.dot(x, y))"
   ]
  },
  {
   "cell_type": "markdown",
   "metadata": {},
   "source": [
    "Numpy 提供了很多计算数组的函数，其中最常用的一个是 `sum`："
   ]
  },
  {
   "cell_type": "code",
   "execution_count": null,
   "metadata": {},
   "outputs": [],
   "source": [
    "x = np.array([[1,2],[3,4]])\n",
    "\n",
    "print(np.sum(x))  # 计算所有元素的和; 输出 \"10\"\n",
    "print(np.sum(x, axis=0))  # 计算每一列的和; 输出 \"[4 6]\"\n",
    "print(np.sum(x, axis=1))  # 计算每一行的和; 输出 \"[3 7]\""
   ]
  },
  {
   "cell_type": "markdown",
   "metadata": {},
   "source": [
    "想要了解更多函数，可以查看[文档](http://docs.scipy.org/doc/numpy/reference/routines.math.html)。\n",
    "\n",
    "除了计算，我们还常常改变数组或者操作其中的元素。其中将矩阵转置是常用的一个，在 Numpy 中，使用 `T` 来转置矩阵："
   ]
  },
  {
   "cell_type": "code",
   "execution_count": null,
   "metadata": {},
   "outputs": [],
   "source": [
    "x = np.array([[1,2], [3,4]])\n",
    "print(x)    # 输出  \"[[1 2]\n",
    "            #          [3 4]]\"\n",
    "print(x.T)  # 输出  \"[[1 3]\n",
    "            #          [2 4]]\"\n",
    "\n",
    "# 注意，对一个秩为 1 的数组进行转置没有任何作用:\n",
    "v = np.array([1,2,3])\n",
    "print(v)    # 输出   \"[1 2 3]\"\n",
    "print(v.T)  # 输出   \"[1 2 3]\""
   ]
  },
  {
   "cell_type": "markdown",
   "metadata": {},
   "source": [
    "Numpy 还提供了更多操作数组的方法，请查看[文档](http://docs.scipy.org/doc/numpy/reference/routines.array-manipulation.html)。"
   ]
  },
  {
   "cell_type": "markdown",
   "metadata": {},
   "source": [
    "## 广播(Broadcasting)\n",
    "\n",
    "广播是一种强有力的机制，它让 Numpy 可以让不同大小的矩阵在一起进行数学计算。我们常常会有一个小的矩阵和一个大的矩阵，然后我们会需要用小的矩阵对大的矩阵做一些计算。\n",
    "\n",
    "举个例子，如果我们想要把一个向量加到矩阵的每一行，我们可以这样做："
   ]
  },
  {
   "cell_type": "code",
   "execution_count": null,
   "metadata": {},
   "outputs": [],
   "source": [
    "# 我们将向量 v 加到矩阵 x 的每一行\n",
    "# 将结果存储在矩阵 y 中\n",
    "x = np.array([[1,2,3], [4,5,6], [7,8,9], [10, 11, 12]])\n",
    "v = np.array([1, 0, 1])\n",
    "y = np.empty_like(x)   # 创建一个形状与 x 相同的空矩阵\n",
    "\n",
    "# 用显式循环将向量 v 添加到矩阵 x 的每一行\n",
    "for i in range(4):\n",
    "    y[i, :] = x[i, :] + v\n",
    "\n",
    "# 现在矩阵 y 如下所示\n",
    "# [[ 2  2  4]\n",
    "#  [ 5  5  7]\n",
    "#  [ 8  8 10]\n",
    "#  [11 11 13]]\n",
    "print(y)"
   ]
  },
  {
   "cell_type": "markdown",
   "metadata": {},
   "source": [
    "这样是行得通的，但是当 x 矩阵非常大，利用循环来计算就会变得很慢很慢。我们可以换一种思路："
   ]
  },
  {
   "cell_type": "code",
   "execution_count": null,
   "metadata": {},
   "outputs": [],
   "source": [
    "# 我们将向量 v 加到矩阵 x 的每一行\n",
    "# 将结果存储在矩阵 y 中\n",
    "x = np.array([[1,2,3], [4,5,6], [7,8,9], [10, 11, 12]])\n",
    "v = np.array([1, 0, 1])\n",
    "vv = np.tile(v, (4, 1))  # 将 4 行 v 向量叠在一起\n",
    "print(vv)                # 输出   \"[[1 0 1]\n",
    "                         #          [1 0 1]\n",
    "                         #          [1 0 1]\n",
    "                         #          [1 0 1]]\"\n",
    "y = x + vv  # x 和 vv 元素间相加\n",
    "print(y)  # 输出 \"[[ 2  2  4\n",
    "          #          [ 5  5  7]\n",
    "          #          [ 8  8 10]\n",
    "          #          [11 11 13]]\""
   ]
  },
  {
   "cell_type": "markdown",
   "metadata": {},
   "source": [
    "Numpy 广播机制可以让我们不用创建 vv，就能直接运算，看看下面例子："
   ]
  },
  {
   "cell_type": "code",
   "execution_count": null,
   "metadata": {},
   "outputs": [],
   "source": [
    "# 我们将向量 v 加到矩阵 x 的每一行\n",
    "# 将结果存储在矩阵 y 中\n",
    "x = np.array([[1,2,3], [4,5,6], [7,8,9], [10, 11, 12]])\n",
    "v = np.array([1, 0, 1])\n",
    "y = x + v  # 使用广播将 v 添加到 x 的每一行\n",
    "print(y) # 输出 \"[[ 2  2  4]\n",
    "         #          [ 5  5  7]\n",
    "         #          [ 8  8 10]\n",
    "         #          [11 11 13]]\""
   ]
  },
  {
   "cell_type": "markdown",
   "metadata": {},
   "source": [
    "对两个数组使用广播机制要遵守下列规则：\n",
    "\n",
    "1. 如果数组的秩不同，使用1来将秩较小的数组进行扩展，直到两个数组的尺寸的长度都一样。\n",
    "2. 如果两个数组在某个维度上的长度是一样的，或者其中一个数组在该维度上长度为1，那么我们就说这两个数组在该维度上是相容的。\n",
    "3. 如果两个数组在所有维度上都是相容的，他们就能使用广播。\n",
    "4. 如果两个输入数组的尺寸不同，那么注意其中较大的那个尺寸。因为广播之后，两个数组的尺寸将和那个较大的尺寸一样。\n",
    "5. 在任何一个维度上，如果一个数组的长度为1，另一个数组长度大于1，那么在该维度上，就好像是对第一个数组进行了复制。\n",
    "\n",
    "如果上述解释看不明白，可以读一读[文档](http://docs.scipy.org/doc/numpy/user/basics.broadcasting.html)和这个[解释](http://scipy.github.io/old-wiki/pages/EricsBroadcastingDoc)。译者注：强烈推荐阅读文档中的例子。\n",
    "\n",
    "支持广播机制的函数是全局函数。哪些是全局函数可以在[文档](http://docs.scipy.org/doc/numpy/reference/ufuncs.html#available-ufuncs)中查找。\n",
    "\n",
    "下面是一些广播机制的使用："
   ]
  },
  {
   "cell_type": "code",
   "execution_count": null,
   "metadata": {},
   "outputs": [],
   "source": [
    "# 计算向量的外积\n",
    "v = np.array([1,2,3])  # v 形状为 (3,)\n",
    "w = np.array([4,5])    # w 形状为 (2,)\n",
    "# 为了计算一个外积，我们首先将 v 改变为形状为 (3, 1) 的列\n",
    "# 然后我们可以对 w 进行广播，得到形状 (3,2) 的外积输出:\n",
    "# [[ 4  5]\n",
    "#  [ 8 10]\n",
    "#  [12 15]]\n",
    "print(np.reshape(v, (3, 1)) * w)\n",
    "\n",
    "# 给矩阵的每一行加上一个向量\n",
    "x = np.array([[1,2,3], [4,5,6]])\n",
    "# x 形状为 (2, 3), v 形状为 (3,) 将被广播为 (2, 3)\n",
    "# 得到下面的矩阵\n",
    "# [[2 4 6]\n",
    "#  [5 7 9]]\n",
    "print(x + v)\n",
    "\n",
    "# 给矩阵的每一列加上一个向量\n",
    "# x 形状为 (2, 3), w 形状为 (2,).\n",
    "# 如果将 x 转置得到形状 (3, 2) 并让 w 广播为 (3, 2) 形状\n",
    "\n",
    "# 将结果再次转置得到形状 (2, 3) 也就是矩阵  x加上每一列向量 w\n",
    "# 得到如下矩阵:\n",
    "# [[ 5  6  7]\n",
    "#  [ 9 10 11]]\n",
    "print((x.T + w).T)\n",
    "\n",
    "# 另一种解决方案是将 w 重塑为形状 (2,1)的行向量\n",
    "# 然后我们可以直接对 x 进行广播，以产生相同的输出\n",
    "print(x + np.reshape(w, (2, 1)))\n",
    "\n",
    "# 将一个矩阵乘以一个常数:\n",
    "# x 形状为 (2, 3). Numpy将标量视为形状为 () 的数组\n",
    "# 这些可以一起广播以形成 (2, 3)\n",
    "# 结果如下所示:\n",
    "# [[ 2  4  6]\n",
    "#  [ 8 10 12]]\n",
    "print(x * 2)"
   ]
  },
  {
   "cell_type": "markdown",
   "metadata": {},
   "source": [
    "广播机制能够让你的代码更简洁更迅速，能够用的时候请尽量使用！\n",
    "\n",
    "## Numpy 和 SciPy 文档\n",
    "\n",
    "这篇教程涉及了你需要了解的 Numpy 中的一些重要内容，但是 Numpy远不止如此。可以查阅 Numpy [文献](http://docs.scipy.org/doc/numpy/reference/)来学习更多。\n",
    "\n",
    "Numpy 提供了高性能的多维数组，以及计算和操作数组的基本工具。[SciPy](http://docs.scipy.org/doc/scipy/reference/) 基于 Numpy，提供了大量的计算和操作数组的函数，这些函数对于不同类型的科学和工程计算非常有用。\n",
    "\n",
    "熟悉 SciPy 的最好方法就是阅读[文档](http://docs.scipy.org/doc/scipy/reference/index.html)。我们会强调对于本课程有用的部分。\n",
    "\n",
    "# Matplotlib 快速入门\n",
    "\n",
    "Matplotlib 是一个作图库。这里简要介绍 `matplotlib.pyplot` 模块，功能和 MATLAB 的作图功能类似。"
   ]
  },
  {
   "cell_type": "code",
   "execution_count": null,
   "metadata": {},
   "outputs": [],
   "source": [
    "import matplotlib.pyplot as plt\n",
    "\n",
    "# 在 notebook 中使用这条指令，则无需 plt.show()\n",
    "%matplotlib inline "
   ]
  },
  {
   "cell_type": "markdown",
   "metadata": {},
   "source": [
    "\n",
    "## 绘图\n",
    "\n",
    "`matplotlib` 库中最重要的函数是 `Plot`.该函数允许你做出 2D 图形，如下："
   ]
  },
  {
   "cell_type": "code",
   "execution_count": null,
   "metadata": {},
   "outputs": [],
   "source": [
    "\n",
    "# 计算正弦曲线上点的 x 和 y 坐标\n",
    "x = np.arange(0, 3 * np.pi, 0.1)\n",
    "y = np.sin(x)\n",
    "\n",
    "# 使用 matplotlib 绘制这些点\n",
    "plt.plot(x, y)\n",
    "plt.show()  # 如果没有上面的指令，必须调用 plt.show()才能显示图形"
   ]
  },
  {
   "cell_type": "markdown",
   "metadata": {},
   "source": [
    "只需要少量工作，就可以一次画不同的线，加上标签，坐标轴标志等。"
   ]
  },
  {
   "cell_type": "code",
   "execution_count": null,
   "metadata": {},
   "outputs": [],
   "source": [
    "import numpy as np\n",
    "import matplotlib.pyplot as plt\n",
    "\n",
    "# 计算正弦曲线上点的 x 和 y 坐标\n",
    "x = np.arange(0, 3 * np.pi, 0.1)\n",
    "y_sin = np.sin(x)\n",
    "y_cos = np.cos(x)\n",
    "\n",
    "# 使用 matplotlib 绘制这些点\n",
    "plt.plot(x, y_sin)\n",
    "plt.plot(x, y_cos)\n",
    "plt.xlabel('x axis label')\n",
    "plt.ylabel('y axis label')\n",
    "plt.title('Sine and Cosine')\n",
    "plt.legend(['Sine', 'Cosine'])\n",
    "plt.show()"
   ]
  },
  {
   "cell_type": "markdown",
   "metadata": {},
   "source": [
    "可以在[文档](http://matplotlib.org/api/pyplot_api.html#matplotlib.pyplot.plot)中阅读更多关于 `plot` 的内容。\n",
    "\n",
    "## 绘制多个图像\n",
    "可以使用 `subplot` 函数来在一幅图中画不同的东西："
   ]
  },
  {
   "cell_type": "code",
   "execution_count": null,
   "metadata": {},
   "outputs": [],
   "source": [
    "import numpy as np\n",
    "import matplotlib.pyplot as plt\n",
    "\n",
    "# 计算正弦和余弦曲线上点的 x 和 y 坐标\n",
    "x = np.arange(0, 3 * np.pi, 0.1)\n",
    "y_sin = np.sin(x)\n",
    "y_cos = np.cos(x)\n",
    "\n",
    "# 建立一个高度为 2，宽度为 1 的子图网格\n",
    "# 并将第一个子图设为激活状态\n",
    "plt.subplot(2, 1, 1)\n",
    "\n",
    "# 绘制第一张图\n",
    "plt.plot(x, y_sin)\n",
    "plt.title('Sine')\n",
    "\n",
    "# 将第二个子图设为激活状态，并绘制第二张图\n",
    "plt.subplot(2, 1, 2)\n",
    "plt.plot(x, y_cos)\n",
    "plt.title('Cosine')\n",
    "\n",
    "# 显示图像\n",
    "plt.show()"
   ]
  },
  {
   "cell_type": "markdown",
   "metadata": {},
   "source": [
    "关于 `subplot` 的更多细节，可以阅读[文档](http://matplotlib.org/api/pyplot_api.html#matplotlib.pyplot.subplot)。\n",
    "\n",
    "## 图像\n",
    "\n",
    "你可以使用 `imshow` 函数来显示图像，如下所示："
   ]
  },
  {
   "cell_type": "code",
   "execution_count": null,
   "metadata": {},
   "outputs": [],
   "source": [
    "import numpy as np\n",
    "import imageio\n",
    "import matplotlib.pyplot as plt\n",
    "\n",
    "%matplotlib inline \n",
    "\n",
    "img = imageio.imread('Images/shibe.jpg')\n",
    "img_tinted = img * [1, 0.95, 0.9]\n",
    "\n",
    "# 显示原图\n",
    "plt.subplot(1, 2, 1)\n",
    "plt.imshow(img)\n",
    "\n",
    "# 显示着色图\n",
    "plt.subplot(1, 2, 2)\n",
    "\n",
    "# imshow 的一个小问题是，它可能会给出奇怪的结果\n",
    "# 如果显示的数据不是 uint8 类型，我们在显示图像之前显式地将其转换为 uint8\n",
    "plt.imshow(np.uint8(img_tinted))\n",
    "plt.show()"
   ]
  },
  {
   "cell_type": "markdown",
   "metadata": {},
   "source": [
    "# 进阶学习\n",
    "\n",
    "通过阅读文档，大家对于 Python / Numpy / Matplotlib 都有了一定掌握。  \n",
    "假设你完成了上面的教程，则已经能够进行后续课程的学习，遇到陌生的问题时再去查阅文档或利用搜索引擎。\n",
    "\n",
    "## Python 内部机制\n",
    "我们可以思考一些有趣的现象，你可以猜测下面代码的输出会是什么。(它们和课程无关，只是为了培养你的好奇心)  \n",
    "这些是从 [What the f\\*ck Python!](https://github.com/satwikkansal/wtfpython) 项目中挑选出来的一些测试题："
   ]
  },
  {
   "cell_type": "code",
   "execution_count": null,
   "metadata": {},
   "outputs": [],
   "source": [
    "a = \"some_string\"\n",
    "print(id(a))\n",
    "print(id(\"some\" + \"_\" + \"string\"))"
   ]
  },
  {
   "cell_type": "code",
   "execution_count": null,
   "metadata": {},
   "outputs": [],
   "source": [
    "some_dict = {}\n",
    "some_dict[5.5] = \"Ruby\"\n",
    "some_dict[5.0] = \"JavaScript\"\n",
    "some_dict[5] = \"Python\"\n",
    "\n",
    "print(some_dict[5.5])\n",
    "print(some_dict[5.0])\n",
    "print(some_dict[5])"
   ]
  },
  {
   "cell_type": "code",
   "execution_count": null,
   "metadata": {},
   "outputs": [],
   "source": [
    "class WTF:\n",
    "  pass\n",
    "\n",
    "class WTF(object):\n",
    "  def __init__(self): print(\"I\")\n",
    "  def __del__(self): print(\"D\")\n",
    "    \n",
    "WTF() is WTF()\n",
    "id(WTF()) == id(WTF())"
   ]
  },
  {
   "cell_type": "code",
   "execution_count": null,
   "metadata": {},
   "outputs": [],
   "source": [
    "print('something' is not None)\n",
    "print('something' is (not None))"
   ]
  },
  {
   "cell_type": "markdown",
   "metadata": {},
   "source": [
    "## Numpy: 对 Axis 的理解\n",
    "\n",
    "文章出处：https://zhuanlan.zhihu.com/p/31275071  \n",
    "由于原文中有图示，建议参考原文进行代码练习，以加深理解。\n",
    "\n",
    "### Axis 就是数组层级\n",
    "\n",
    "要想理解 `axis`，首先我们先要弄清楚 “Numpy中数组的维数” 和 \"线性代数中矩阵的维数\" 这两个概念以及它们之间的关系。在数学或者物理的概念中，`dimensions` 被认为是在空间中表示一个点所需要的最少坐标个数，但是在 Numpy 中，`dimensions` 指代的是数组的维数。比如下面这个例子："
   ]
  },
  {
   "cell_type": "code",
   "execution_count": null,
   "metadata": {},
   "outputs": [],
   "source": [
    "import numpy as np\n",
    "a = np.array([[1,2,3],[2,3,4],[3,4,9]])\n",
    "print(a)"
   ]
  },
  {
   "cell_type": "markdown",
   "metadata": {},
   "source": [
    "\n",
    "这个 `array` 的维数只有 2，即 `axis` 轴有两个，分别是 `axis=0`和`axis=1`. 如下图所示，该二维数组的第 0 维 `axis=0` 有三个元素(左图)，即 `axis=0` 轴的长度 `length` 为 3；第 1 维 `axis=1` 也有三个元素(右图)，即 `axis=1` 轴的长度 `length` 为 3. 正是因为`axis=0`、`axis=1` 的长度都为 3，矩阵横着竖着都有 3 个数，所以该矩阵在线性代数是 3 维的(rank 秩为3). 因此，`axis` 就是数组层级。\n",
    "\n",
    "![](./assets/numpy-axis-1.jpg)\n",
    "\n",
    "当 `axis=0`, 该轴上的元素有 3 个(数组的 `size` 为 3)\n",
    "- `a[0]、a[1]、a[2]`\n",
    "\n",
    "当 `axis=1`，该轴上的元素有 3 个(数组的 `size` 为3)\n",
    "\n",
    "- `a[0][0]`、`a[0][1]`、`a[0][2]`\n",
    "- 或者`a[1][0]`、`a[1][1]`、`a[1][2]`\n",
    "- 或者`a[2][0]`、`a[2][1]`、`a[2][2]`\n",
    "\n",
    "再比如下面 `shape` 为 `(3,2,4)` 的 array："
   ]
  },
  {
   "cell_type": "code",
   "execution_count": null,
   "metadata": {},
   "outputs": [],
   "source": [
    "b = np.array([[[1,2,3,4],[1,3,4,5]],[[2,4,7,5],[8,4,3,5]],[[2,5,7,3],[1,5,3,7]]])\n",
    "print(b)\n",
    "print(b.shape)"
   ]
  },
  {
   "cell_type": "markdown",
   "metadata": {},
   "source": [
    "这个 `shape` (用 tuple 表示) 可以理解为在每个轴 `axis` 上的 `size`, 也即占有的长度 `length`.   \n",
    "为了更进一步理解，我们可以暂时把多个`axes` 想象成多层 `layers`. \n",
    "\n",
    "- `axis=0` 表示第一层(下图黑色框框), 该层数组的 `size` 为 3, 对应轴上的元素 `length = 3`；\n",
    "- `axis=1` 表示第二层(下图红色框框), 该层数组的 `size` 为 2, 对应轴上的元素 `length = 2`；\n",
    "- `axis=2` 表示第三层(下图蓝色框框), 对应轴上的元素 `length = 4`.\n",
    "\n",
    "![](./assets/numpy-axis-2.jpg)\n",
    "\n",
    "### 设 `axis=i`, 则 Numpy 沿着第 `i` 个下标变化的方向进行操作\n",
    "\n",
    "1. 二维数组示例：\n",
    "\n",
    "比如 `np.sum(a, axis=1)`，结合下面的数组 `a[0][0]=1`、`a[0][1]=2`、`a[0][2]=3` ，下标会发生变化的方向是数组的第一维。\n",
    "\n",
    "![](./assets/numpy-axis-3.jpg)\n",
    "\n",
    "我们往下标会变化的方向，把元素相加后即可得到最终结果："
   ]
  },
  {
   "cell_type": "code",
   "execution_count": null,
   "metadata": {},
   "outputs": [],
   "source": [
    "a = np.array([[1,2,3],[2,3,4],[3,4,9]])\n",
    "print(np.sum(a, axis=1))\n",
    "print(np.sum(a, axis=1).size * a.shape[1] == a.size)"
   ]
  },
  {
   "cell_type": "markdown",
   "metadata": {},
   "source": [
    "2.三维数组示例：  \n",
    "\n",
    "再举个例子，比如下边这个 `np.shape(a)=(3,2,4)` 的 3 维数组，该数组第 0 维的长度为 3(黑色框框)，再深入一层，第 1 维的长度为 2(红色框框)，再深入一层，第 2 维的长度为 4(蓝色框框).\n",
    "\n",
    "![](./assets/numpy-axis-4.jpg)\n",
    "\n",
    "如果我们要计算 `np.sum(a, axis=1)`，在第一个黑色框框中，\n",
    "\n",
    "![](./assets/numpy-axis-5.jpg)\n",
    "\n",
    "下标的变化方向如下所示：\n",
    "\n",
    "![](./assets/numpy-axis-6.jpg)\n",
    "\n",
    "所以，我们要把上下两个红色框框相加起来\n",
    "\n",
    "![](./assets/numpy-axis-7.jpg)"
   ]
  },
  {
   "cell_type": "code",
   "execution_count": null,
   "metadata": {},
   "outputs": [],
   "source": [
    "b = np.array([[[1,2,3,4],[1,3,4,5]],[[2,4,7,5],[8,4,3,5]],[[2,5,7,3],[1,5,3,7]]])\n",
    "print(np.sum(b, axis=1))\n",
    "print(np.sum(b, axis=1).size * b.shape[1] == b.size)"
   ]
  },
  {
   "cell_type": "markdown",
   "metadata": {},
   "source": [
    "3.四维数组示例：\n",
    "\n",
    "比如下面这个巨复杂的 4 维数组，"
   ]
  },
  {
   "cell_type": "code",
   "execution_count": null,
   "metadata": {},
   "outputs": [],
   "source": [
    "data = np.random.randint(0, 5, [4,3,2,3])\n",
    "data"
   ]
  },
  {
   "cell_type": "markdown",
   "metadata": {},
   "source": [
    "当 `axis=0`时，numpy 沿着第 0 维的方向进行求和，  \n",
    "也就是第一个元素值 = `a[0][0][0][0]`+`a[1][0][0][0]`+`a[2][0][0][0]`+`a[3][0][0][0]`,  \n",
    "第二个元素 = `a[0][0][0][1]`+`a[1][0][0][1]`+`a[2][0][0][1]`+`a[3][0][0][1]`，同理可得最后的结果如下："
   ]
  },
  {
   "cell_type": "code",
   "execution_count": null,
   "metadata": {},
   "outputs": [],
   "source": [
    "print(np.sum(data, axis=0))\n",
    "print(np.sum(data, axis=0).size)\n",
    "print(np.sum(data, axis=0).size * data.shape[0] == data.size)"
   ]
  },
  {
   "cell_type": "markdown",
   "metadata": {},
   "source": [
    "当 `axis=3`时，numpy 沿着第 3 维的方向进行求和，  \n",
    "也就是第一个元素值 = `a[0][0][0][0]`+`a[0][0][0][1]`+`a[0][0][0][2]`+`a[0][0][0][3]`,  \n",
    "第二个元素 = `a[0][0][1][0]`+`a[0][0][1][1]`+`a[0][0][2][1]`+`a[0][0][3][1]`，同理可得最后的结果如下："
   ]
  },
  {
   "cell_type": "code",
   "execution_count": null,
   "metadata": {},
   "outputs": [],
   "source": [
    "print(np.sum(data, axis=3))\n",
    "print(np.sum(data, axis=3).size)\n",
    "print(np.sum(data, axis=3).size * data.shape[0] == data.size)"
   ]
  },
  {
   "cell_type": "markdown",
   "metadata": {},
   "source": [
    "理解 axis 的原理对理解后续图像特征的 Numpy 表示和计算很有帮助！"
   ]
  }
 ],
 "metadata": {
  "kernelspec": {
   "display_name": "Python 3",
   "language": "python",
   "name": "python3"
  },
  "language_info": {
   "codemirror_mode": {
    "name": "ipython",
    "version": 3
   },
   "file_extension": ".py",
   "mimetype": "text/x-python",
   "name": "python",
   "nbconvert_exporter": "python",
   "pygments_lexer": "ipython3",
   "version": "3.7.3"
  }
 },
 "nbformat": 4,
 "nbformat_minor": 2
}
