{
 "cells": [
  {
   "cell_type": "markdown",
   "metadata": {},
   "source": [
    "# Using Naive-Bayes Classifier on MNIST\n",
    "\n",
    "### 优缺点\n",
    "- Pros：在数据较少的情况下仍然有效，可以处理多类别问题\n",
    "- Cons：对于输入数据的准备方式较为敏感\n",
    "- 适用数据类型：标称型数据\n",
    "\n",
    "### 一般过程\n",
    "- 数据处理\n",
    "    - 收集数据：可以适用任何方法，如RSS源或爬虫等，也可以直接导入外部数据集或者自己杜撰\n",
    "    - 准备数据：需要数值型或者bool型数据\n",
    "    - 分析数据：有大量特征时，绘制特征作用不大， 此时使用直方图效果更好\n",
    "- 算法模型\n",
    "    - 训练算法：计算不同的独立特征的条件概率\n",
    "    - 测试算法：计算错误率\n",
    "- 结论\n",
    "    - 使用算法：一个常见的朴素贝叶斯应用是文本分类，可以在任意的分类场景中使用朴素贝叶斯分类器，不一定非要是文本"
   ]
  },
  {
   "cell_type": "code",
   "execution_count": 1,
   "metadata": {},
   "outputs": [],
   "source": [
    "#文档头文件\n",
    "import math\n",
    "import numpy as np\n",
    "import matplotlib.pyplot as plt\n",
    "\n",
    "from sklearn import datasets, model_selection\n",
    "from sklearn.metrics import classification_report\n",
    "from collections import Counter\n",
    "from sklearn.naive_bayes import GaussianNB"
   ]
  },
  {
   "cell_type": "markdown",
   "metadata": {},
   "source": [
    "## 数据处理"
   ]
  },
  {
   "cell_type": "markdown",
   "metadata": {},
   "source": [
    "### 收集数据：[使用 OpenML 数据集](https://www.openml.org/d/554)\n",
    "[Using sklearn fetch_openml function to fetch dataset from openml by name or dataset id](https://scikit-learn.org/stable/modules/generated/sklearn.datasets.fetch_openml.html)"
   ]
  },
  {
   "cell_type": "code",
   "execution_count": 2,
   "metadata": {},
   "outputs": [
    {
     "data": {
      "text/plain": [
       "((70000, 784), (70000,))"
      ]
     },
     "execution_count": 2,
     "metadata": {},
     "output_type": "execute_result"
    }
   ],
   "source": [
    "#通过sklearn导入数据集，并观察数据集的规模\n",
    "mnist = datasets.fetch_openml('mnist_784')\n",
    "data, target = mnist.data, mnist.target\n",
    "data.shape, target.shape"
   ]
  },
  {
   "cell_type": "code",
   "execution_count": 4,
   "metadata": {},
   "outputs": [
    {
     "name": "stdout",
     "output_type": "stream",
     "text": [
      "data[0]:\n",
      " [  0.   0.   0.   0.   0.   0.   0.   0.   0.   0.   0.   0.   0.   0.\n",
      "   0.   0.   0.   0.   0.   0.   0.   0.   0.   0.   0.   0.   0.   0.\n",
      "   0.   0.   0.   0.   0.   0.   0.   0.   0.   0.   0.   0.   0.   0.\n",
      "   0.   0.   0.   0.   0.   0.   0.   0.   0.   0.   0.   0.   0.   0.\n",
      "   0.   0.   0.   0.   0.   0.   0.   0.   0.   0.   0.   0.   0.   0.\n",
      "   0.   0.   0.   0.   0.   0.   0.   0.   0.   0.   0.   0.   0.   0.\n",
      "   0.   0.   0.   0.   0.   0.   0.   0.   0.   0.   0.   0.   0.   0.\n",
      "   0.   0.   0.   0.   0.   0.   0.   0.   0.   0.   0.   0.   0.   0.\n",
      "   0.   0.   0.   0.   0.   0.   0.   0.   0.   0.   0.   0.   0.   0.\n",
      "   0.   0.   0.   0.   0.   0.   0.   0.   0.   0.   0.   0.   0.   0.\n",
      "   0.   0.   0.   0.   0.   0.   0.   0.   0.   0.   0.   0.   3.  18.\n",
      "  18.  18. 126. 136. 175.  26. 166. 255. 247. 127.   0.   0.   0.   0.\n",
      "   0.   0.   0.   0.   0.   0.   0.   0.  30.  36.  94. 154. 170. 253.\n",
      " 253. 253. 253. 253. 225. 172. 253. 242. 195.  64.   0.   0.   0.   0.\n",
      "   0.   0.   0.   0.   0.   0.   0.  49. 238. 253. 253. 253. 253. 253.\n",
      " 253. 253. 253. 251.  93.  82.  82.  56.  39.   0.   0.   0.   0.   0.\n",
      "   0.   0.   0.   0.   0.   0.   0.  18. 219. 253. 253. 253. 253. 253.\n",
      " 198. 182. 247. 241.   0.   0.   0.   0.   0.   0.   0.   0.   0.   0.\n",
      "   0.   0.   0.   0.   0.   0.   0.   0.  80. 156. 107. 253. 253. 205.\n",
      "  11.   0.  43. 154.   0.   0.   0.   0.   0.   0.   0.   0.   0.   0.\n",
      "   0.   0.   0.   0.   0.   0.   0.   0.   0.  14.   1. 154. 253.  90.\n",
      "   0.   0.   0.   0.   0.   0.   0.   0.   0.   0.   0.   0.   0.   0.\n",
      "   0.   0.   0.   0.   0.   0.   0.   0.   0.   0.   0. 139. 253. 190.\n",
      "   2.   0.   0.   0.   0.   0.   0.   0.   0.   0.   0.   0.   0.   0.\n",
      "   0.   0.   0.   0.   0.   0.   0.   0.   0.   0.   0.  11. 190. 253.\n",
      "  70.   0.   0.   0.   0.   0.   0.   0.   0.   0.   0.   0.   0.   0.\n",
      "   0.   0.   0.   0.   0.   0.   0.   0.   0.   0.   0.   0.  35. 241.\n",
      " 225. 160. 108.   1.   0.   0.   0.   0.   0.   0.   0.   0.   0.   0.\n",
      "   0.   0.   0.   0.   0.   0.   0.   0.   0.   0.   0.   0.   0.  81.\n",
      " 240. 253. 253. 119.  25.   0.   0.   0.   0.   0.   0.   0.   0.   0.\n",
      "   0.   0.   0.   0.   0.   0.   0.   0.   0.   0.   0.   0.   0.   0.\n",
      "  45. 186. 253. 253. 150.  27.   0.   0.   0.   0.   0.   0.   0.   0.\n",
      "   0.   0.   0.   0.   0.   0.   0.   0.   0.   0.   0.   0.   0.   0.\n",
      "   0.  16.  93. 252. 253. 187.   0.   0.   0.   0.   0.   0.   0.   0.\n",
      "   0.   0.   0.   0.   0.   0.   0.   0.   0.   0.   0.   0.   0.   0.\n",
      "   0.   0.   0. 249. 253. 249.  64.   0.   0.   0.   0.   0.   0.   0.\n",
      "   0.   0.   0.   0.   0.   0.   0.   0.   0.   0.   0.   0.   0.   0.\n",
      "  46. 130. 183. 253. 253. 207.   2.   0.   0.   0.   0.   0.   0.   0.\n",
      "   0.   0.   0.   0.   0.   0.   0.   0.   0.   0.   0.   0.  39. 148.\n",
      " 229. 253. 253. 253. 250. 182.   0.   0.   0.   0.   0.   0.   0.   0.\n",
      "   0.   0.   0.   0.   0.   0.   0.   0.   0.   0.  24. 114. 221. 253.\n",
      " 253. 253. 253. 201.  78.   0.   0.   0.   0.   0.   0.   0.   0.   0.\n",
      "   0.   0.   0.   0.   0.   0.   0.   0.  23.  66. 213. 253. 253. 253.\n",
      " 253. 198.  81.   2.   0.   0.   0.   0.   0.   0.   0.   0.   0.   0.\n",
      "   0.   0.   0.   0.   0.   0.  18. 171. 219. 253. 253. 253. 253. 195.\n",
      "  80.   9.   0.   0.   0.   0.   0.   0.   0.   0.   0.   0.   0.   0.\n",
      "   0.   0.   0.   0.  55. 172. 226. 253. 253. 253. 253. 244. 133.  11.\n",
      "   0.   0.   0.   0.   0.   0.   0.   0.   0.   0.   0.   0.   0.   0.\n",
      "   0.   0.   0.   0. 136. 253. 253. 253. 212. 135. 132.  16.   0.   0.\n",
      "   0.   0.   0.   0.   0.   0.   0.   0.   0.   0.   0.   0.   0.   0.\n",
      "   0.   0.   0.   0.   0.   0.   0.   0.   0.   0.   0.   0.   0.   0.\n",
      "   0.   0.   0.   0.   0.   0.   0.   0.   0.   0.   0.   0.   0.   0.\n",
      "   0.   0.   0.   0.   0.   0.   0.   0.   0.   0.   0.   0.   0.   0.\n",
      "   0.   0.   0.   0.   0.   0.   0.   0.   0.   0.   0.   0.   0.   0.\n",
      "   0.   0.   0.   0.   0.   0.   0.   0.   0.   0.   0.   0.   0.   0.\n",
      "   0.   0.   0.   0.   0.   0.   0.   0.   0.   0.   0.   0.   0.   0.]\n",
      "target[0]: 5\n",
      "\n"
     ]
    },
    {
     "data": {
      "text/plain": [
       "<matplotlib.image.AxesImage at 0x1a25e8d828>"
      ]
     },
     "execution_count": 4,
     "metadata": {},
     "output_type": "execute_result"
    },
    {
     "data": {
      "image/png": "[encoded data removed]",
      "text/plain": [
       "<Figure size 432x288 with 1 Axes>"
      ]
     },
     "metadata": {
      "needs_background": "light"
     },
     "output_type": "display_data"
    }
   ],
   "source": [
    "#观察数据样例\n",
    "plt.gray()\n",
    "print(\"data[0]:\\n\", data[0])\n",
    "print(\"target[0]:\", target[0])\n",
    "print()\n",
    "plt.imshow(data[0].reshape(28,28))"
   ]
  },
  {
   "cell_type": "markdown",
   "metadata": {},
   "source": [
    "通过对 data[0] 的观察，我们发现data[0]的数据类型大约为浮点型，且数据区间为0.～255.,下面对其进行进一步观察。"
   ]
  },
  {
   "cell_type": "code",
   "execution_count": 9,
   "metadata": {},
   "outputs": [
    {
     "name": "stdout",
     "output_type": "stream",
     "text": [
      "min:  0.0\n",
      "max:  255.0\n",
      "mean:  35.108418367346935\n",
      "data.dtype:  float64\n",
      "target.dtype:  object\n"
     ]
    }
   ],
   "source": [
    "print(\"min: \", min(data[0]))\n",
    "print(\"max: \", max(data[0]))\n",
    "print(\"mean: \", np.mean(data[0]))\n",
    "print(\"data.dtype: \", data.dtype)\n",
    "print(\"target.dtype: \", target.dtype)"
   ]
  },
  {
   "cell_type": "markdown",
   "metadata": {},
   "source": [
    "### 准备数据"
   ]
  },
  {
   "cell_type": "markdown",
   "metadata": {},
   "source": [
    "通过对数据的观察，我们知道我们的训练集的数据格式为(70000, 784)，与上一个例子中的敏感消息分类任务相比，其 document_num = 70000, word_num = 784。\n",
    "\n",
    "但是在 minst 数据集中，其每一个 word 对应的值的浮动区间为 0.~255.，且为浮点数，不是二值问题，所以我们需要对其进行二值化。\n",
    "\n",
    "二值化，主要有两个方法：\n",
    "1. 将一个 image 中所有大于 0 的 pixel 值都设置为 1。（bool型）\n",
    "2. 取所有 pixel 的均值，小于均值的设为 0， 其余为 1。（均值型）\n",
    "\n",
    "这里，我对这两种方法都进行实现。"
   ]
  },
  {
   "cell_type": "markdown",
   "metadata": {},
   "source": [
    "#### 使用方法一（bool型二值化方法）进行二值化"
   ]
  },
  {
   "cell_type": "code",
   "execution_count": 13,
   "metadata": {},
   "outputs": [],
   "source": [
    "def bool_normalize(data):\n",
    "    image_num, pixel_num = data.shape\n",
    "    bool_data = np.zeros((image_num, pixel_num))\n",
    "    for i in range(image_num):\n",
    "        for j in range(pixel_num):\n",
    "            if int(data[i, j]) != 0:\n",
    "                bool_data[i,j] = 1\n",
    "            else:\n",
    "                bool_data[i,j] = 0\n",
    "    return bool_data"
   ]
  },
  {
   "cell_type": "code",
   "execution_count": 15,
   "metadata": {},
   "outputs": [],
   "source": [
    "bool_data = bool_normalize(data)"
   ]
  },
  {
   "cell_type": "code",
   "execution_count": 36,
   "metadata": {},
   "outputs": [
    {
     "name": "stdout",
     "output_type": "stream",
     "text": [
      "min:  0.0\n",
      "max:  1.0\n"
     ]
    },
    {
     "data": {
      "text/plain": [
       "Text(0.5, 0, '1')"
      ]
     },
     "execution_count": 36,
     "metadata": {},
     "output_type": "execute_result"
    },
    {
     "data": {
      "image/png": "[encoded data removed]",
      "text/plain": [
       "<Figure size 720x720 with 4 Axes>"
      ]
     },
     "metadata": {
      "needs_background": "light"
     },
     "output_type": "display_data"
    }
   ],
   "source": [
    "print(\"min: \", min(bool_data[0]))\n",
    "print(\"max: \", max(bool_data[0]))\n",
    "\n",
    "plt.figure(figsize=(10,10))                  \n",
    "plt.subplots_adjust(wspace =0.5, hspace =0)  \n",
    "\n",
    "plt.subplot(2,2,1)\n",
    "plt.imshow(bool_data[0].reshape(28,28))\n",
    "plt.xlabel(target[0])\n",
    "\n",
    "plt.subplot(2,2,2)\n",
    "plt.imshow(bool_data[1].reshape(28,28))\n",
    "plt.xlabel(target[1])\n",
    "\n",
    "plt.subplot(2,2,3)\n",
    "plt.imshow(bool_data[2].reshape(28,28))\n",
    "plt.xlabel(target[2])\n",
    "\n",
    "plt.subplot(2,2,4)\n",
    "plt.imshow(bool_data[3].reshape(28,28))\n",
    "plt.xlabel(target[3])"
   ]
  },
  {
   "cell_type": "markdown",
   "metadata": {},
   "source": [
    "#### 使用方法二（均值型二值化方法）进行二值化"
   ]
  },
  {
   "cell_type": "code",
   "execution_count": 14,
   "metadata": {},
   "outputs": [],
   "source": [
    "def mean_normalize(data):\n",
    "    image_num, pixel_num = data.shape\n",
    "    mean_data = np.zeros((image_num, pixel_num))\n",
    "    for i in range(image_num):\n",
    "        image_pixel_mean = data[i].mean()\n",
    "        for j in range(pixel_num):\n",
    "            if data[i,j] < image_pixel_mean:\n",
    "                mean_data[i,j] = 0\n",
    "            else:\n",
    "                mean_data[i,j] = 1\n",
    "    return mean_data"
   ]
  },
  {
   "cell_type": "code",
   "execution_count": 22,
   "metadata": {},
   "outputs": [],
   "source": [
    "mean_data = mean_normalize(data)"
   ]
  },
  {
   "cell_type": "code",
   "execution_count": 37,
   "metadata": {},
   "outputs": [
    {
     "name": "stdout",
     "output_type": "stream",
     "text": [
      "min:  0.0\n",
      "max:  1.0\n"
     ]
    },
    {
     "data": {
      "text/plain": [
       "Text(0.5, 0, '1')"
      ]
     },
     "execution_count": 37,
     "metadata": {},
     "output_type": "execute_result"
    },
    {
     "data": {
      "image/png": "[encoded data removed]",
      "text/plain": [
       "<Figure size 720x720 with 4 Axes>"
      ]
     },
     "metadata": {
      "needs_background": "light"
     },
     "output_type": "display_data"
    }
   ],
   "source": [
    "print(\"min: \", min(mean_data[0]))\n",
    "print(\"max: \", max(mean_data[0]))\n",
    "\n",
    "plt.figure(figsize=(10,10))                  \n",
    "plt.subplots_adjust(wspace =0.5, hspace =0)  \n",
    "\n",
    "plt.subplot(2,2,1)\n",
    "plt.imshow(mean_data[0].reshape(28,28))\n",
    "plt.xlabel(target[0])\n",
    "\n",
    "plt.subplot(2,2,2)\n",
    "plt.imshow(mean_data[1].reshape(28,28))\n",
    "plt.xlabel(target[1])\n",
    "\n",
    "plt.subplot(2,2,3)\n",
    "plt.imshow(mean_data[2].reshape(28,28))\n",
    "plt.xlabel(target[2])\n",
    "\n",
    "plt.subplot(2,2,4)\n",
    "plt.imshow(mean_data[3].reshape(28,28))\n",
    "plt.xlabel(target[3])"
   ]
  },
  {
   "cell_type": "markdown",
   "metadata": {},
   "source": [
    "通过对比两种二值化方法得到的图像结果，我觉得使用第一种（bool型）二值化的方法得到的结果更加好，于是决定使用bool型二值化来对我们的样本数据进行处理。"
   ]
  },
  {
   "cell_type": "markdown",
   "metadata": {},
   "source": [
    "#### 转换数据类型"
   ]
  },
  {
   "cell_type": "code",
   "execution_count": 44,
   "metadata": {},
   "outputs": [
    {
     "name": "stdout",
     "output_type": "stream",
     "text": [
      "bool_data.dtype:  float64\n",
      "target.dtype:  object\n",
      "\n",
      "['5' '0' '4' ... '4' '5' '6']\n"
     ]
    }
   ],
   "source": [
    "print(\"bool_data.dtype: \", bool_data.dtype)\n",
    "print(\"target.dtype: \", target.dtype)\n",
    "print()\n",
    "print(target)"
   ]
  },
  {
   "cell_type": "markdown",
   "metadata": {},
   "source": [
    "我们发现训练集的数据类型，不是非常客观，这对于我们后面进行数值比较和索引、算数运算等操作不是很友好，所以统一统统转化成int型。"
   ]
  },
  {
   "cell_type": "code",
   "execution_count": 49,
   "metadata": {},
   "outputs": [
    {
     "name": "stdout",
     "output_type": "stream",
     "text": [
      "bool_data.dtype:  int32\n",
      "target.dtype:  int32\n",
      "\n",
      "[5 0 4 ... 4 5 6]\n"
     ]
    }
   ],
   "source": [
    "bool_data = bool_data.astype(np.int32)\n",
    "target = target.astype(np.int32)\n",
    "print(\"bool_data.dtype: \", bool_data.dtype)\n",
    "print(\"target.dtype: \", target.dtype)\n",
    "print()\n",
    "print(target)"
   ]
  },
  {
   "cell_type": "markdown",
   "metadata": {},
   "source": [
    "#### 训练集和测试集样本分割"
   ]
  },
  {
   "cell_type": "code",
   "execution_count": 38,
   "metadata": {},
   "outputs": [],
   "source": [
    "#生成一个随机数组\n",
    "indx = np.random.choice(len(target), len(target), replace=False)\n",
    "\n",
    "#构建一定长度大小的新 data 和 target 数组\n",
    "def mk_dataset(size, data, target):\n",
    "    train_X = [data[i] for i in indx[:size]]\n",
    "    train_X = np.array(train_X)\n",
    "    train_y = [target[i] for i in indx[:size]]\n",
    "    train_y = np.array(train_y)\n",
    "    \n",
    "    return train_X, train_y"
   ]
  },
  {
   "cell_type": "code",
   "execution_count": 50,
   "metadata": {},
   "outputs": [
    {
     "data": {
      "text/plain": [
       "((50000, 784), (50000,))"
      ]
     },
     "execution_count": 50,
     "metadata": {},
     "output_type": "execute_result"
    }
   ],
   "source": [
    "#生成训练集的样本和标签\n",
    "train_X, train_y = mk_dataset(50000, bool_data, target)\n",
    "train_X.shape, train_y.shape"
   ]
  },
  {
   "cell_type": "code",
   "execution_count": 51,
   "metadata": {},
   "outputs": [
    {
     "data": {
      "text/plain": [
       "((10000, 784), (10000,))"
      ]
     },
     "execution_count": 51,
     "metadata": {},
     "output_type": "execute_result"
    }
   ],
   "source": [
    "#生成测试集的样本和标签\n",
    "def mk_test_dataset(data, target):\n",
    "    test_X = [data[i] for i in indx[-10000:]]\n",
    "    test_X = np.array(test_X)\n",
    "    test_y = [target[i] for i in indx[-10000:]]\n",
    "    test_y = np.array(test_y)\n",
    "    \n",
    "    return test_X, test_y\n",
    "\n",
    "test_X, test_y = mk_test_dataset(bool_data, target)\n",
    "test_X.shape, test_y.shape"
   ]
  },
  {
   "cell_type": "markdown",
   "metadata": {},
   "source": [
    "## 算法模型\n",
    "由于在前面的一个实验（敏感信息分类）中，已经构建好了我们的 naive-bayes classifier，所以可以直接沿用它的代码结果，做一定的改进。改进主要是由于这是一个多分类（十分类）问题，而上一个实验是一个二分类问题。"
   ]
  },
  {
   "cell_type": "markdown",
   "metadata": {},
   "source": [
    "### 训练算法"
   ]
  },
  {
   "cell_type": "code",
   "execution_count": 110,
   "metadata": {},
   "outputs": [],
   "source": [
    "def trainNB0(trainMatrix, trainCategory):\n",
    "    #dataset's image num, per image's pixel num\n",
    "    images_num, pixel_num = np.shape(trainMatrix)\n",
    "    \n",
    "    #先验概率\n",
    "    #calculate label num\n",
    "    label_counter = Counter(trainCategory)\n",
    "    label_num = len(list(label_counter))\n",
    "    #按照key的数值顺序排列（0~9）\n",
    "    label_sort = list(label_counter)\n",
    "    label_sort.sort()\n",
    "    #计算先验概率\n",
    "    prior_probability = np.array([label_counter[label_sort[i]]/images_num for i in range(label_num)])\n",
    "#     print(\"prior_probability: \\n\", prior_probability)\n",
    "    \n",
    "    #条件概率\n",
    "    conditional_Num = np.ones((label_num, pixel_num))\n",
    "    conditional_Denom = 10.0 * np.ones(label_num)\n",
    "    conditional_probability = np.zeros((label_num, pixel_num))\n",
    "    for i in range(images_num):\n",
    "        for now_label in label_sort:\n",
    "            if trainCategory[i] == now_label:\n",
    "                conditional_Num[now_label] += trainMatrix[i]\n",
    "                conditional_Denom[now_label] += sum(trainMatrix[i])\n",
    "    \n",
    "    \n",
    "    for now_label in label_sort:\n",
    "#         print(\"p%sNum: \\n%s\\n\" % (now_label, conditional_Num[now_label]))\n",
    "#         print(\"p%sDenom: \\n%s\\n\" % (now_label, conditional_Denom[now_label]))\n",
    "#         print(\"p%sNum.SHAPE: \\n%s\\n\" % (now_label, conditional_Num[now_label].shape))\n",
    "#         print(\"p%sDenom.SHAPE: \\n%s\\n\" % (now_label, conditional_Denom[now_label].shape))\n",
    "        conditional_probability[now_label] = np.log(conditional_Num[now_label]/float(conditional_Denom[now_label]))\n",
    "    \n",
    "    return prior_probability, conditional_probability"
   ]
  },
  {
   "cell_type": "code",
   "execution_count": 111,
   "metadata": {},
   "outputs": [],
   "source": [
    "priorP, conditionalP = trainNB0(train_X, train_y)"
   ]
  },
  {
   "cell_type": "code",
   "execution_count": 112,
   "metadata": {},
   "outputs": [
    {
     "name": "stdout",
     "output_type": "stream",
     "text": [
      "priorP:\n",
      " [0.09684 0.11258 0.09988 0.10228 0.0976  0.08972 0.099   0.10564 0.09784\n",
      " 0.09862]\n",
      "\n",
      "-----------------------------------------------\n",
      "\n",
      "conditionalP:\n",
      " [[-13.7442562  -13.7442562  -13.7442562  ... -13.7442562  -13.7442562\n",
      "  -13.7442562 ]\n",
      " [-13.09199489 -13.09199489 -13.09199489 ... -13.09199489 -13.09199489\n",
      "  -13.09199489]\n",
      " [-13.6465237  -13.6465237  -13.6465237  ... -13.6465237  -13.6465237\n",
      "  -13.6465237 ]\n",
      " ...\n",
      " [-13.45023733 -13.45023733 -13.45023733 ... -13.45023733 -13.45023733\n",
      "  -13.45023733]\n",
      " [-13.65057695 -13.65057695 -13.65057695 ... -13.65057695 -13.65057695\n",
      "  -13.65057695]\n",
      " [-13.46898253 -13.46898253 -13.46898253 ... -13.46898253 -13.46898253\n",
      "  -13.46898253]]\n",
      "\n",
      "conditionalP.shape:\n",
      " (10, 784)\n"
     ]
    }
   ],
   "source": [
    "print(\"priorP:\\n\", priorP)\n",
    "print(\"\\n-----------------------------------------------\\n\")\n",
    "print(\"conditionalP:\\n\", conditionalP)\n",
    "print(\"\\nconditionalP.shape:\\n\", conditionalP.shape)"
   ]
  },
  {
   "cell_type": "markdown",
   "metadata": {},
   "source": [
    "### 测试算法"
   ]
  },
  {
   "cell_type": "code",
   "execution_count": 124,
   "metadata": {},
   "outputs": [],
   "source": [
    "def classifyNB(vec2Classify, priorP, conditionalP, label_num):\n",
    "    #取log，将条件概率与先验概率之间的乘法操作，变成了加法操作\n",
    "    #另外，我们需要在 c_i 取不同 label 时，\n",
    "    #分别通过贝叶斯公式来计算此时的后验概率。\n",
    "    posterP = np.empty(label_num)\n",
    "    max_P = -np.Inf\n",
    "    max_index = -1\n",
    "    for i in range(label_num):\n",
    "        posterP[i] = sum(vec2Classify * conditionalP[i]) + np.log(priorP[i])\n",
    "        if posterP[i] > max_P:\n",
    "            max_P, max_index = posterP[i], i\n",
    "    \n",
    "    return max_index"
   ]
  },
  {
   "cell_type": "code",
   "execution_count": 125,
   "metadata": {},
   "outputs": [],
   "source": [
    "def testNB(test_X, priorP, conditionalP):\n",
    "    image_num = test_X.shape[0]\n",
    "    pred_y = np.empty(image_num)\n",
    "    for sample in range(image_num):\n",
    "        pred_y[sample] = classifyNB(test_X[sample], priorP, conditionalP, 10)\n",
    "    return pred_y"
   ]
  },
  {
   "cell_type": "code",
   "execution_count": 129,
   "metadata": {},
   "outputs": [],
   "source": [
    "pred_y = testNB(test_X, priorP, conditionalP)"
   ]
  },
  {
   "cell_type": "code",
   "execution_count": 130,
   "metadata": {},
   "outputs": [
    {
     "name": "stdout",
     "output_type": "stream",
     "text": [
      "              precision    recall  f1-score   support\n",
      "\n",
      "           0       0.92      0.89      0.90      1029\n",
      "           1       0.88      0.94      0.91      1121\n",
      "           2       0.88      0.82      0.85      1010\n",
      "           3       0.77      0.79      0.78      1019\n",
      "           4       0.79      0.69      0.74       942\n",
      "           5       0.84      0.59      0.69       916\n",
      "           6       0.87      0.90      0.88       976\n",
      "           7       0.92      0.80      0.86      1009\n",
      "           8       0.61      0.76      0.67       967\n",
      "           9       0.67      0.81      0.73      1011\n",
      "\n",
      "   micro avg       0.80      0.80      0.80     10000\n",
      "   macro avg       0.81      0.80      0.80     10000\n",
      "weighted avg       0.81      0.80      0.80     10000\n",
      "\n"
     ]
    }
   ],
   "source": [
    "print(classification_report(test_y, pred_y))"
   ]
  },
  {
   "cell_type": "code",
   "execution_count": null,
   "metadata": {},
   "outputs": [],
   "source": []
  }
 ],
 "metadata": {
  "kernelspec": {
   "display_name": "Python 3",
   "language": "python",
   "name": "python3"
  },
  "language_info": {
   "codemirror_mode": {
    "name": "ipython",
    "version": 3
   },
   "file_extension": ".py",
   "mimetype": "text/x-python",
   "name": "python",
   "nbconvert_exporter": "python",
   "pygments_lexer": "ipython3",
   "version": "3.7.1"
  }
 },
 "nbformat": 4,
 "nbformat_minor": 2
}
