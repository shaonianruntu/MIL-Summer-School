{
 "cells": [
  {
   "cell_type": "code",
   "execution_count": 1,
   "metadata": {},
   "outputs": [],
   "source": [
    "#header file \n",
    "import numpy as np \n",
    "import matplotlib.pyplot as plt\n",
    "import torch\n",
    "import torch.nn as nn\n",
    "from torch.nn import functional as F\n",
    "import torchvision\n",
    "from visdom import Visdom\n",
    "import hiddenlayer as hl"
   ]
  },
  {
   "cell_type": "code",
   "execution_count": 22,
   "metadata": {},
   "outputs": [],
   "source": [
    "#LeNet\n",
    "class lenet(nn.Module):\n",
    "    \n",
    "    def __init__(self):\n",
    "        super(lenet, self).__init__()\n",
    "        \n",
    "        self.conv_unit = nn.Sequential(\n",
    "            nn.Conv2d(1, 16, kernel_size=5, stride=1, padding=2),\n",
    "            nn.BatchNorm2d(16),\n",
    "            nn.MaxPool2d(kernel_size=2, stride=2),\n",
    "            nn.Conv2d(16, 32, kernel_size=5, stride=1, padding=0),\n",
    "            nn.BatchNorm2d(32),\n",
    "            nn.MaxPool2d(kernel_size=2, stride=2)\n",
    "        )\n",
    "        \n",
    "        self.fc_unit = nn.Sequential(\n",
    "            nn.Linear(32*5*5, 32),\n",
    "            nn.ReLU(),\n",
    "            nn.Linear(32, 10)\n",
    "        )\n",
    "        \n",
    "        tmp = torch.randn(2, 1, 28, 28)\n",
    "        out = self.conv_unit(tmp)\n",
    "        print(\"after conv unit: \", out.shape)\n",
    "        out = out.view(out.size(0), -1)\n",
    "        print(\"before full connect unit: \", out.shape)\n",
    "        out = self.fc_unit(out)\n",
    "        print(\"after full connect unit: \", out.shape)\n",
    "        \n",
    "\n",
    "    def forward(self, x):    \n",
    "        x = self.conv_unit(x)     \n",
    "        x = x.view(x.size(0), -1)\n",
    "        x = self.fc_unit(x)\n",
    "        return x\n"
   ]
  },
  {
   "cell_type": "code",
   "execution_count": 5,
   "metadata": {},
   "outputs": [],
   "source": [
    "#initialize varince\n",
    "batch_size = 512\n",
    "learning_rate = 1e-3\n",
    "epochs = 10"
   ]
  },
  {
   "cell_type": "code",
   "execution_count": 6,
   "metadata": {},
   "outputs": [
    {
     "name": "stdout",
     "output_type": "stream",
     "text": [
      "Downloading http://yann.lecun.com/exdb/mnist/train-images-idx3-ubyte.gz to ./mnist\\MNIST\\raw\\train-images-idx3-ubyte.gz\n"
     ]
    },
    {
     "name": "stderr",
     "output_type": "stream",
     "text": [
      " 99%|█████████████████████████████████████▊| 9854976/9912422 [00:39<00:00, 439714.72it/s]"
     ]
    },
    {
     "name": "stdout",
     "output_type": "stream",
     "text": [
      "Extracting ./mnist\\MNIST\\raw\\train-images-idx3-ubyte.gz\n",
      "Downloading http://yann.lecun.com/exdb/mnist/train-labels-idx1-ubyte.gz to ./mnist\\MNIST\\raw\\train-labels-idx1-ubyte.gz\n"
     ]
    },
    {
     "name": "stderr",
     "output_type": "stream",
     "text": [
      "\n",
      "0it [00:00, ?it/s]\n",
      "  0%|                                                          | 0/28881 [00:00<?, ?it/s]\n",
      " 57%|████████████████████████▍                  | 16384/28881 [00:00<00:00, 73513.36it/s]\n",
      "32768it [00:02, 21327.37it/s]                                                            "
     ]
    },
    {
     "name": "stdout",
     "output_type": "stream",
     "text": [
      "Extracting ./mnist\\MNIST\\raw\\train-labels-idx1-ubyte.gz\n",
      "Downloading http://yann.lecun.com/exdb/mnist/t10k-images-idx3-ubyte.gz to ./mnist\\MNIST\\raw\\t10k-images-idx3-ubyte.gz\n"
     ]
    },
    {
     "name": "stderr",
     "output_type": "stream",
     "text": [
      "\n",
      "0it [00:00, ?it/s]\n",
      "  0%|                                                        | 0/1648877 [00:00<?, ?it/s]\n",
      "  1%|▍                                        | 16384/1648877 [00:01<00:49, 32810.65it/s]\n",
      "  3%|█▏                                       | 49152/1648877 [00:01<00:38, 41901.98it/s]\n",
      "  6%|██▍                                      | 98304/1648877 [00:01<00:30, 51195.28it/s]\n",
      " 11%|████▌                                   | 188416/1648877 [00:02<00:23, 61001.21it/s]\n",
      " 19%|███████▊                                | 319488/1648877 [00:03<00:16, 79260.53it/s]\n",
      " 23%|█████████                              | 385024/1648877 [00:03<00:11, 106343.44it/s]\n",
      " 25%|█████████▉                             | 417792/1648877 [00:03<00:11, 107470.04it/s]\n",
      " 28%|███████████                            | 466944/1648877 [00:03<00:09, 118685.15it/s]\n",
      " 34%|█████████████▏                         | 557056/1648877 [00:04<00:07, 150213.46it/s]\n",
      " 39%|███████████████▎                       | 647168/1648877 [00:04<00:05, 185675.82it/s]\n",
      " 43%|████████████████▋                      | 704512/1648877 [00:04<00:04, 229463.67it/s]\n",
      " 45%|█████████████████▋                     | 745472/1648877 [00:04<00:03, 245491.13it/s]\n",
      " 48%|██████████████████▊                    | 794624/1648877 [00:04<00:03, 275355.31it/s]\n",
      " 52%|████████████████████▎                  | 860160/1648877 [00:04<00:02, 332861.45it/s]\n",
      " 55%|█████████████████████▌                 | 909312/1648877 [00:05<00:02, 319071.20it/s]\n",
      " 60%|███████████████████████▍               | 991232/1648877 [00:05<00:02, 323545.55it/s]\n",
      " 64%|████████████████████████▎             | 1056768/1648877 [00:05<00:01, 376287.98it/s]\n",
      " 67%|█████████████████████████▍            | 1105920/1648877 [00:05<00:01, 383056.44it/s]\n",
      " 70%|██████████████████████████▌           | 1155072/1648877 [00:05<00:01, 362527.39it/s]\n",
      " 74%|███████████████████████████▉          | 1212416/1648877 [00:05<00:01, 393239.30it/s]\n",
      " 77%|█████████████████████████████         | 1261568/1648877 [00:05<00:01, 379022.92it/s]\n",
      " 80%|██████████████████████████████▍       | 1318912/1648877 [00:06<00:00, 399162.95it/s]\n",
      " 83%|███████████████████████████████▌      | 1368064/1648877 [00:06<00:00, 381546.01it/s]\n",
      "9920512it [00:50, 439714.72it/s]                                                         \n",
      " 90%|██████████████████████████████████▏   | 1482752/1648877 [00:06<00:00, 251886.39it/s]\n",
      " 93%|███████████████████████████████████▎  | 1531904/1648877 [00:07<00:00, 184394.72it/s]"
     ]
    },
    {
     "name": "stdout",
     "output_type": "stream",
     "text": [
      "Extracting ./mnist\\MNIST\\raw\\t10k-images-idx3-ubyte.gz\n",
      "Downloading http://yann.lecun.com/exdb/mnist/t10k-labels-idx1-ubyte.gz to ./mnist\\MNIST\\raw\\t10k-labels-idx1-ubyte.gz\n"
     ]
    },
    {
     "name": "stderr",
     "output_type": "stream",
     "text": [
      "\n",
      "\n",
      "0it [00:00, ?it/s]\n",
      "\n",
      "  0%|                                                           | 0/4542 [00:00<?, ?it/s]\n",
      "\n",
      "8192it [00:00, 16770.84it/s]                                                             "
     ]
    },
    {
     "name": "stdout",
     "output_type": "stream",
     "text": [
      "Extracting ./mnist\\MNIST\\raw\\t10k-labels-idx1-ubyte.gz\n",
      "Processing...\n",
      "Done!\n"
     ]
    }
   ],
   "source": [
    "#load dataset \n",
    "train_loader = torch.utils.data.DataLoader(\n",
    "    torchvision.datasets.MNIST(\"./mnist\", train=True, download=True,\\\n",
    "        transform=torchvision.transforms.Compose([\n",
    "            torchvision.transforms.ToTensor(),\n",
    "            torchvision.transforms.Normalize((0.1307,),(0.3081,))\n",
    "        ])),\n",
    "    batch_size=batch_size, shuffle=True)\n",
    "\n",
    "test_loader = torch.utils.data.DataLoader(\n",
    "    torchvision.datasets.MNIST(\"./mnist\", train=False, download=True,\\\n",
    "        transform=torchvision.transforms.Compose([\n",
    "            torchvision.transforms.ToTensor(),\n",
    "            torchvision.transforms.Normalize((0.1307,),(0.3081,))\n",
    "        ])),\n",
    "    batch_size=batch_size, shuffle=False)"
   ]
  },
  {
   "cell_type": "code",
   "execution_count": 7,
   "metadata": {},
   "outputs": [],
   "source": [
    "def plot_image(img, label, name):\n",
    "    fig = plt.figure()\n",
    "    for i in range(6):\n",
    "        plt.subplot(2, 3, i + 1)\n",
    "        plt.tight_layout()\n",
    "        plt.imshow(img[i][0]*0.3081+0.1307, cmap='gray', interpolation='none')\n",
    "        plt.title(\"{}: {}\".format(name, label[i].item()))\n",
    "        plt.xticks([])\n",
    "        plt.yticks([])\n",
    "    plt.show()"
   ]
  },
  {
   "cell_type": "code",
   "execution_count": 8,
   "metadata": {},
   "outputs": [
    {
     "name": "stdout",
     "output_type": "stream",
     "text": [
      "x shape: torch.Size([512, 1, 28, 28]), y shape: torch.Size([512])\n"
     ]
    },
    {
     "data": {
      "image/png": "[encoded data removed]",
      "text/plain": [
       "<Figure size 432x288 with 6 Axes>"
      ]
     },
     "metadata": {},
     "output_type": "display_data"
    }
   ],
   "source": [
    "#observe dataset sample \n",
    "x, y = next(iter(train_loader))\n",
    "print('x shape: {}, y shape: {}'.format(x.shape, y.shape))\n",
    "plot_image(x, y, \"train_loader sample\")"
   ]
  },
  {
   "cell_type": "code",
   "execution_count": 9,
   "metadata": {},
   "outputs": [],
   "source": [
    "#use GPU\n",
    "device = torch.device(\"cuda:0\")"
   ]
  },
  {
   "cell_type": "code",
   "execution_count": 23,
   "metadata": {},
   "outputs": [
    {
     "name": "stdout",
     "output_type": "stream",
     "text": [
      "after conv unit:  torch.Size([2, 32, 5, 5])\n",
      "before full connect unit:  torch.Size([2, 800])\n",
      "after full connect unit:  torch.Size([2, 10])\n",
      "lenet(\n",
      "  (conv_unit): Sequential(\n",
      "    (0): Conv2d(1, 16, kernel_size=(5, 5), stride=(1, 1), padding=(2, 2))\n",
      "    (1): BatchNorm2d(16, eps=1e-05, momentum=0.1, affine=True, track_running_stats=True)\n",
      "    (2): MaxPool2d(kernel_size=2, stride=2, padding=0, dilation=1, ceil_mode=False)\n",
      "    (3): Conv2d(16, 32, kernel_size=(5, 5), stride=(1, 1))\n",
      "    (4): BatchNorm2d(32, eps=1e-05, momentum=0.1, affine=True, track_running_stats=True)\n",
      "    (5): MaxPool2d(kernel_size=2, stride=2, padding=0, dilation=1, ceil_mode=False)\n",
      "  )\n",
      "  (fc_unit): Sequential(\n",
      "    (0): Linear(in_features=800, out_features=32, bias=True)\n",
      "    (1): ReLU()\n",
      "    (2): Linear(in_features=32, out_features=10, bias=True)\n",
      "  )\n",
      ")\n"
     ]
    }
   ],
   "source": [
    "#train lenet model\n",
    "model = lenet().to(device)\n",
    "#observe model structure\n",
    "print(model)"
   ]
  },
  {
   "cell_type": "code",
   "execution_count": 24,
   "metadata": {},
   "outputs": [
    {
     "data": {
      "image/svg+xml": [
       "<?xml version=\"1.0\" encoding=\"UTF-8\" standalone=\"no\"?>\r\n",
       "<!DOCTYPE svg PUBLIC \"-//W3C//DTD SVG 1.1//EN\"\r\n",
       " \"http://www.w3.org/Graphics/SVG/1.1/DTD/svg11.dtd\">\r\n",
       "<!-- Generated by graphviz version 2.38.0 (20140413.2041)\r\n",
       " -->\r\n",
       "<!-- Title: %3 Pages: 1 -->\r\n",
       "<svg width=\"389pt\" height=\"908pt\"\r\n",
       " viewBox=\"0.00 0.00 389.00 908.00\" xmlns=\"http://www.w3.org/2000/svg\" xmlns:xlink=\"http://www.w3.org/1999/xlink\">\r\n",
       "<g id=\"graph0\" class=\"graph\" transform=\"scale(1 1) rotate(0) translate(72 872)\">\r\n",
       "<title>%3</title>\r\n",
       "<polygon fill=\"#ffffff\" stroke=\"none\" points=\"-72,36 -72,-872 317,-872 317,36 -72,36\"/>\r\n",
       "<!-- lenet/Sequential[conv_unit]/MaxPool2d[2]/outputs/25 -->\r\n",
       "<g id=\"node1\" class=\"node\"><title>lenet/Sequential[conv_unit]/MaxPool2d[2]/outputs/25</title>\r\n",
       "<polygon fill=\"#bcd6fc\" stroke=\"#7c96bc\" points=\"187,-753 113,-753 113,-717 187,-717 187,-753\"/>\r\n",
       "<text text-anchor=\"start\" x=\"121\" y=\"-732\" font-family=\"Verdana\" font-size=\"10.00\" fill=\"#202020\">MaxPool2x2</text>\r\n",
       "</g>\r\n",
       "<!-- 10575931255565432022 -->\r\n",
       "<g id=\"node13\" class=\"node\"><title>10575931255565432022</title>\r\n",
       "<polygon fill=\"#bcd6fc\" stroke=\"#7c96bc\" points=\"213,-670 87,-670 87,-634 213,-634 213,-670\"/>\r\n",
       "<text text-anchor=\"start\" x=\"95\" y=\"-649\" font-family=\"Verdana\" font-size=\"10.00\" fill=\"#202020\">Conv5x5 &gt; BatchNorm</text>\r\n",
       "</g>\r\n",
       "<!-- lenet/Sequential[conv_unit]/MaxPool2d[2]/outputs/25&#45;&gt;10575931255565432022 -->\r\n",
       "<g id=\"edge11\" class=\"edge\"><title>lenet/Sequential[conv_unit]/MaxPool2d[2]/outputs/25&#45;&gt;10575931255565432022</title>\r\n",
       "<path fill=\"none\" stroke=\"#7c96bc\" d=\"M150,-716.822C150,-706.19 150,-692.306 150,-680.204\"/>\r\n",
       "<polygon fill=\"#7c96bc\" stroke=\"#7c96bc\" points=\"153.5,-680.153 150,-670.153 146.5,-680.153 153.5,-680.153\"/>\r\n",
       "<text text-anchor=\"middle\" x=\"185\" y=\"-691\" font-family=\"Verdana\" font-size=\"10.00\" fill=\"#202020\">512x16x14x14</text>\r\n",
       "</g>\r\n",
       "<!-- lenet/Sequential[conv_unit]/MaxPool2d[5]/outputs/32 -->\r\n",
       "<g id=\"node2\" class=\"node\"><title>lenet/Sequential[conv_unit]/MaxPool2d[5]/outputs/32</title>\r\n",
       "<polygon fill=\"#bcd6fc\" stroke=\"#7c96bc\" points=\"187,-587 113,-587 113,-551 187,-551 187,-587\"/>\r\n",
       "<text text-anchor=\"start\" x=\"121\" y=\"-566\" font-family=\"Verdana\" font-size=\"10.00\" fill=\"#202020\">MaxPool2x2</text>\r\n",
       "</g>\r\n",
       "<!-- lenet/outputs/34 -->\r\n",
       "<g id=\"node4\" class=\"node\"><title>lenet/outputs/34</title>\r\n",
       "<polygon fill=\"#bcd6fc\" stroke=\"#7c96bc\" points=\"146,-504 92,-504 92,-468 146,-468 146,-504\"/>\r\n",
       "<text text-anchor=\"start\" x=\"104\" y=\"-483\" font-family=\"Verdana\" font-size=\"10.00\" fill=\"#202020\">Shape</text>\r\n",
       "</g>\r\n",
       "<!-- lenet/Sequential[conv_unit]/MaxPool2d[5]/outputs/32&#45;&gt;lenet/outputs/34 -->\r\n",
       "<g id=\"edge1\" class=\"edge\"><title>lenet/Sequential[conv_unit]/MaxPool2d[5]/outputs/32&#45;&gt;lenet/outputs/34</title>\r\n",
       "<path fill=\"none\" stroke=\"#7c96bc\" d=\"M127.573,-550.863C122.48,-545.73 117.762,-539.669 115,-533 112.602,-527.212 112.042,-520.67 112.42,-514.375\"/>\r\n",
       "<polygon fill=\"#7c96bc\" stroke=\"#7c96bc\" points=\"115.925,-514.565 113.783,-504.189 108.987,-513.636 115.925,-514.565\"/>\r\n",
       "<text text-anchor=\"middle\" x=\"144\" y=\"-525\" font-family=\"Verdana\" font-size=\"10.00\" fill=\"#202020\">512x32x5x5</text>\r\n",
       "</g>\r\n",
       "<!-- lenet/outputs/40 -->\r\n",
       "<g id=\"node10\" class=\"node\"><title>lenet/outputs/40</title>\r\n",
       "<polygon fill=\"#bcd6fc\" stroke=\"#7c96bc\" points=\"194,-202 136,-202 136,-166 194,-166 194,-202\"/>\r\n",
       "<text text-anchor=\"start\" x=\"144\" y=\"-181\" font-family=\"Verdana\" font-size=\"10.00\" fill=\"#202020\">Reshape</text>\r\n",
       "</g>\r\n",
       "<!-- lenet/Sequential[conv_unit]/MaxPool2d[5]/outputs/32&#45;&gt;lenet/outputs/40 -->\r\n",
       "<g id=\"edge2\" class=\"edge\"><title>lenet/Sequential[conv_unit]/MaxPool2d[5]/outputs/32&#45;&gt;lenet/outputs/40</title>\r\n",
       "<path fill=\"none\" stroke=\"#7c96bc\" d=\"M163.149,-550.702C173.784,-534.967 187,-510.654 187,-487 187,-487 187,-487 187,-256 187,-240.781 182.331,-224.515 177.294,-211.398\"/>\r\n",
       "<polygon fill=\"#7c96bc\" stroke=\"#7c96bc\" points=\"180.489,-209.962 173.443,-202.05 174.016,-212.629 180.489,-209.962\"/>\r\n",
       "<text text-anchor=\"middle\" x=\"216\" y=\"-369\" font-family=\"Verdana\" font-size=\"10.00\" fill=\"#202020\">512x32x5x5</text>\r\n",
       "</g>\r\n",
       "<!-- lenet/outputs/33 -->\r\n",
       "<g id=\"node3\" class=\"node\"><title>lenet/outputs/33</title>\r\n",
       "<polygon fill=\"#bcd6fc\" stroke=\"#7c96bc\" points=\"74,-504 12,-504 12,-468 74,-468 74,-504\"/>\r\n",
       "<text text-anchor=\"start\" x=\"20\" y=\"-483\" font-family=\"Verdana\" font-size=\"10.00\" fill=\"#202020\">Constant</text>\r\n",
       "</g>\r\n",
       "<!-- lenet/outputs/35 -->\r\n",
       "<g id=\"node5\" class=\"node\"><title>lenet/outputs/35</title>\r\n",
       "<polygon fill=\"#bcd6fc\" stroke=\"#7c96bc\" points=\"146,-431 92,-431 92,-395 146,-395 146,-431\"/>\r\n",
       "<text text-anchor=\"start\" x=\"102\" y=\"-410\" font-family=\"Verdana\" font-size=\"10.00\" fill=\"#202020\">Gather</text>\r\n",
       "</g>\r\n",
       "<!-- lenet/outputs/33&#45;&gt;lenet/outputs/35 -->\r\n",
       "<g id=\"edge3\" class=\"edge\"><title>lenet/outputs/33&#45;&gt;lenet/outputs/35</title>\r\n",
       "<path fill=\"none\" stroke=\"#7c96bc\" d=\"M61.3975,-467.813C71.0128,-458.83 82.9339,-447.693 93.4323,-437.886\"/>\r\n",
       "<polygon fill=\"#7c96bc\" stroke=\"#7c96bc\" points=\"95.8539,-440.413 100.772,-431.029 91.0752,-435.298 95.8539,-440.413\"/>\r\n",
       "</g>\r\n",
       "<!-- lenet/outputs/34&#45;&gt;lenet/outputs/35 -->\r\n",
       "<g id=\"edge4\" class=\"edge\"><title>lenet/outputs/34&#45;&gt;lenet/outputs/35</title>\r\n",
       "<path fill=\"none\" stroke=\"#7c96bc\" d=\"M119,-467.813C119,-459.789 119,-450.047 119,-441.069\"/>\r\n",
       "<polygon fill=\"#7c96bc\" stroke=\"#7c96bc\" points=\"122.5,-441.029 119,-431.029 115.5,-441.029 122.5,-441.029\"/>\r\n",
       "</g>\r\n",
       "<!-- /outputs/37 -->\r\n",
       "<g id=\"node7\" class=\"node\"><title>/outputs/37</title>\r\n",
       "<polygon fill=\"#bcd6fc\" stroke=\"#7c96bc\" points=\"158,-348 88,-348 88,-312 158,-312 158,-348\"/>\r\n",
       "<text text-anchor=\"start\" x=\"96\" y=\"-327\" font-family=\"Verdana\" font-size=\"10.00\" fill=\"#202020\">Unsqueeze</text>\r\n",
       "</g>\r\n",
       "<!-- lenet/outputs/35&#45;&gt;/outputs/37 -->\r\n",
       "<g id=\"edge5\" class=\"edge\"><title>lenet/outputs/35&#45;&gt;/outputs/37</title>\r\n",
       "<path fill=\"none\" stroke=\"#7c96bc\" d=\"M119.848,-394.822C120.373,-384.19 121.059,-370.306 121.657,-358.204\"/>\r\n",
       "<polygon fill=\"#7c96bc\" stroke=\"#7c96bc\" points=\"125.155,-358.314 122.153,-348.153 118.164,-357.968 125.155,-358.314\"/>\r\n",
       "</g>\r\n",
       "<!-- lenet/outputs/36 -->\r\n",
       "<g id=\"node6\" class=\"node\"><title>lenet/outputs/36</title>\r\n",
       "<polygon fill=\"#bcd6fc\" stroke=\"#7c96bc\" points=\"66,-431 4,-431 4,-395 66,-395 66,-431\"/>\r\n",
       "<text text-anchor=\"start\" x=\"12\" y=\"-410\" font-family=\"Verdana\" font-size=\"10.00\" fill=\"#202020\">Constant</text>\r\n",
       "</g>\r\n",
       "<!-- /outputs/38 -->\r\n",
       "<g id=\"node8\" class=\"node\"><title>/outputs/38</title>\r\n",
       "<polygon fill=\"#bcd6fc\" stroke=\"#7c96bc\" points=\"70,-348 0,-348 0,-312 70,-312 70,-348\"/>\r\n",
       "<text text-anchor=\"start\" x=\"8\" y=\"-327\" font-family=\"Verdana\" font-size=\"10.00\" fill=\"#202020\">Unsqueeze</text>\r\n",
       "</g>\r\n",
       "<!-- lenet/outputs/36&#45;&gt;/outputs/38 -->\r\n",
       "<g id=\"edge6\" class=\"edge\"><title>lenet/outputs/36&#45;&gt;/outputs/38</title>\r\n",
       "<path fill=\"none\" stroke=\"#7c96bc\" d=\"M35,-394.822C35,-384.19 35,-370.306 35,-358.204\"/>\r\n",
       "<polygon fill=\"#7c96bc\" stroke=\"#7c96bc\" points=\"38.5001,-358.153 35,-348.153 31.5001,-358.153 38.5001,-358.153\"/>\r\n",
       "</g>\r\n",
       "<!-- /outputs/39 -->\r\n",
       "<g id=\"node9\" class=\"node\"><title>/outputs/39</title>\r\n",
       "<polygon fill=\"#bcd6fc\" stroke=\"#7c96bc\" points=\"150,-275 96,-275 96,-239 150,-239 150,-275\"/>\r\n",
       "<text text-anchor=\"start\" x=\"105\" y=\"-254\" font-family=\"Verdana\" font-size=\"10.00\" fill=\"#202020\">Concat</text>\r\n",
       "</g>\r\n",
       "<!-- /outputs/37&#45;&gt;/outputs/39 -->\r\n",
       "<g id=\"edge7\" class=\"edge\"><title>/outputs/37&#45;&gt;/outputs/39</title>\r\n",
       "<path fill=\"none\" stroke=\"#7c96bc\" d=\"M123,-311.813C123,-303.789 123,-294.047 123,-285.069\"/>\r\n",
       "<polygon fill=\"#7c96bc\" stroke=\"#7c96bc\" points=\"126.5,-285.029 123,-275.029 119.5,-285.029 126.5,-285.029\"/>\r\n",
       "</g>\r\n",
       "<!-- /outputs/38&#45;&gt;/outputs/39 -->\r\n",
       "<g id=\"edge8\" class=\"edge\"><title>/outputs/38&#45;&gt;/outputs/39</title>\r\n",
       "<path fill=\"none\" stroke=\"#7c96bc\" d=\"M56.3023,-311.813C67.652,-302.656 81.7763,-291.26 94.1015,-281.316\"/>\r\n",
       "<polygon fill=\"#7c96bc\" stroke=\"#7c96bc\" points=\"96.3088,-284.032 101.894,-275.029 91.9133,-278.584 96.3088,-284.032\"/>\r\n",
       "</g>\r\n",
       "<!-- /outputs/39&#45;&gt;lenet/outputs/40 -->\r\n",
       "<g id=\"edge9\" class=\"edge\"><title>/outputs/39&#45;&gt;lenet/outputs/40</title>\r\n",
       "<path fill=\"none\" stroke=\"#7c96bc\" d=\"M133.167,-238.813C138.12,-230.441 144.179,-220.197 149.677,-210.903\"/>\r\n",
       "<polygon fill=\"#7c96bc\" stroke=\"#7c96bc\" points=\"152.848,-212.418 154.927,-202.029 146.823,-208.854 152.848,-212.418\"/>\r\n",
       "</g>\r\n",
       "<!-- 7606322028569963402 -->\r\n",
       "<g id=\"node14\" class=\"node\"><title>7606322028569963402</title>\r\n",
       "<polygon fill=\"#bcd6fc\" stroke=\"#7c96bc\" points=\"205,-119 125,-119 125,-83 205,-83 205,-119\"/>\r\n",
       "<text text-anchor=\"start\" x=\"133\" y=\"-98\" font-family=\"Verdana\" font-size=\"10.00\" fill=\"#202020\">Linear &gt; Relu</text>\r\n",
       "</g>\r\n",
       "<!-- lenet/outputs/40&#45;&gt;7606322028569963402 -->\r\n",
       "<g id=\"edge13\" class=\"edge\"><title>lenet/outputs/40&#45;&gt;7606322028569963402</title>\r\n",
       "<path fill=\"none\" stroke=\"#7c96bc\" d=\"M165,-165.822C165,-155.19 165,-141.306 165,-129.204\"/>\r\n",
       "<polygon fill=\"#7c96bc\" stroke=\"#7c96bc\" points=\"168.5,-129.153 165,-119.153 161.5,-129.153 168.5,-129.153\"/>\r\n",
       "<text text-anchor=\"middle\" x=\"186\" y=\"-140\" font-family=\"Verdana\" font-size=\"10.00\" fill=\"#202020\">512x800</text>\r\n",
       "</g>\r\n",
       "<!-- lenet/Sequential[fc_unit]/ReLU[1]/outputs/43 -->\r\n",
       "<g id=\"node11\" class=\"node\"><title>lenet/Sequential[fc_unit]/ReLU[1]/outputs/43</title>\r\n",
       "<polygon fill=\"#bcd6fc\" stroke=\"#7c96bc\" points=\"192,-36 138,-36 138,-0 192,-0 192,-36\"/>\r\n",
       "<text text-anchor=\"start\" x=\"150\" y=\"-15\" font-family=\"Verdana\" font-size=\"10.00\" fill=\"#202020\">Linear</text>\r\n",
       "</g>\r\n",
       "<!-- 14649472462510299007 -->\r\n",
       "<g id=\"node12\" class=\"node\"><title>14649472462510299007</title>\r\n",
       "<polygon fill=\"#bcd6fc\" stroke=\"#7c96bc\" points=\"213,-836 87,-836 87,-800 213,-800 213,-836\"/>\r\n",
       "<text text-anchor=\"start\" x=\"95\" y=\"-815\" font-family=\"Verdana\" font-size=\"10.00\" fill=\"#202020\">Conv5x5 &gt; BatchNorm</text>\r\n",
       "</g>\r\n",
       "<!-- 14649472462510299007&#45;&gt;lenet/Sequential[conv_unit]/MaxPool2d[2]/outputs/25 -->\r\n",
       "<g id=\"edge10\" class=\"edge\"><title>14649472462510299007&#45;&gt;lenet/Sequential[conv_unit]/MaxPool2d[2]/outputs/25</title>\r\n",
       "<path fill=\"none\" stroke=\"#7c96bc\" d=\"M150,-799.822C150,-789.19 150,-775.306 150,-763.204\"/>\r\n",
       "<polygon fill=\"#7c96bc\" stroke=\"#7c96bc\" points=\"153.5,-763.153 150,-753.153 146.5,-763.153 153.5,-763.153\"/>\r\n",
       "<text text-anchor=\"middle\" x=\"156.5\" y=\"-774\" font-family=\"Verdana\" font-size=\"10.00\" fill=\"#202020\">16</text>\r\n",
       "</g>\r\n",
       "<!-- 10575931255565432022&#45;&gt;lenet/Sequential[conv_unit]/MaxPool2d[5]/outputs/32 -->\r\n",
       "<g id=\"edge12\" class=\"edge\"><title>10575931255565432022&#45;&gt;lenet/Sequential[conv_unit]/MaxPool2d[5]/outputs/32</title>\r\n",
       "<path fill=\"none\" stroke=\"#7c96bc\" d=\"M150,-633.822C150,-623.19 150,-609.306 150,-597.204\"/>\r\n",
       "<polygon fill=\"#7c96bc\" stroke=\"#7c96bc\" points=\"153.5,-597.153 150,-587.153 146.5,-597.153 153.5,-597.153\"/>\r\n",
       "<text text-anchor=\"middle\" x=\"156.5\" y=\"-608\" font-family=\"Verdana\" font-size=\"10.00\" fill=\"#202020\">32</text>\r\n",
       "</g>\r\n",
       "<!-- 7606322028569963402&#45;&gt;lenet/Sequential[fc_unit]/ReLU[1]/outputs/43 -->\r\n",
       "<g id=\"edge14\" class=\"edge\"><title>7606322028569963402&#45;&gt;lenet/Sequential[fc_unit]/ReLU[1]/outputs/43</title>\r\n",
       "<path fill=\"none\" stroke=\"#7c96bc\" d=\"M165,-82.822C165,-72.1903 165,-58.306 165,-46.2035\"/>\r\n",
       "<polygon fill=\"#7c96bc\" stroke=\"#7c96bc\" points=\"168.5,-46.1532 165,-36.1533 161.5,-46.1533 168.5,-46.1532\"/>\r\n",
       "<text text-anchor=\"middle\" x=\"183\" y=\"-57\" font-family=\"Verdana\" font-size=\"10.00\" fill=\"#202020\">512x32</text>\r\n",
       "</g>\r\n",
       "</g>\r\n",
       "</svg>\r\n"
      ],
      "text/plain": [
       "<hiddenlayer.graph.Graph at 0x1ccc8ad6a58>"
      ]
     },
     "execution_count": 24,
     "metadata": {},
     "output_type": "execute_result"
    }
   ],
   "source": [
    "# Build HiddenLayer graph\n",
    "hl_graph = hl.build_graph(model, torch.zeros([512, 1, 28, 28]).to(device))\n",
    "# Use a different color theme\n",
    "hl_graph.theme = hl.graph.THEMES[\"blue\"].copy()  # Two options: basic and blue\n",
    "hl_graph"
   ]
  },
  {
   "cell_type": "code",
   "execution_count": 25,
   "metadata": {},
   "outputs": [],
   "source": [
    "#loss function \n",
    "criterion = nn.CrossEntropyLoss().to(device)\n",
    "\n",
    "#optimizer\n",
    "optimizer = torch.optim.SGD(model.parameters(), lr=1e-2, momentum=0.9)"
   ]
  },
  {
   "cell_type": "code",
   "execution_count": 27,
   "metadata": {},
   "outputs": [
    {
     "name": "stderr",
     "output_type": "stream",
     "text": [
      "WARNING:root:Setting up a new session...\n"
     ]
    },
    {
     "data": {
      "text/plain": [
       "'test_acc'"
      ]
     },
     "execution_count": 27,
     "metadata": {},
     "output_type": "execute_result"
    }
   ],
   "source": [
    "#initalize visdom\n",
    "viz = Visdom()\n",
    "\n",
    "viz.line([0.], [0.], win='train_loss', opts=dict(title='train loss'))\n",
    "viz.line([0.], [0.], win='test_loss', opts=dict(title='test loss'))\n",
    "viz.line([0.], [0.], win='test_acc', opts=dict(title='test acc.'))"
   ]
  },
  {
   "cell_type": "code",
   "execution_count": 28,
   "metadata": {
    "scrolled": true
   },
   "outputs": [
    {
     "name": "stdout",
     "output_type": "stream",
     "text": [
      "0 loss: 0.20452278852462769\n",
      "0 acc:  0.9505\n",
      "1 loss: 0.17165029048919678\n",
      "1 acc:  0.9707\n",
      "2 loss: 0.14492027461528778\n",
      "2 acc:  0.9767\n",
      "3 loss: 0.056027065962553024\n",
      "3 acc:  0.9774\n",
      "4 loss: 0.04900920018553734\n",
      "4 acc:  0.9806\n",
      "5 loss: 0.05872320011258125\n",
      "5 acc:  0.9832\n",
      "6 loss: 0.03516030311584473\n",
      "6 acc:  0.9831\n",
      "7 loss: 0.06490133702754974\n",
      "7 acc:  0.9845\n",
      "8 loss: 0.041867971420288086\n",
      "8 acc:  0.985\n",
      "9 loss: 0.05373447760939598\n",
      "9 acc:  0.9844\n"
     ]
    }
   ],
   "source": [
    "global_step = 0\n",
    "\n",
    "for epoch in range(epochs):\n",
    "    \n",
    "    model.train()\n",
    "    for batch_idx, (data, target) in enumerate(train_loader):\n",
    "        #use gpu to caluate\n",
    "        data, target = data.to(device), target.to(device)\n",
    "        #train\n",
    "        logits = model(data)\n",
    "        loss = criterion(logits, target)\n",
    "        #backprop\n",
    "        optimizer.zero_grad()\n",
    "        loss.backward()\n",
    "        optimizer.step()\n",
    "        \n",
    "        global_step += 1\n",
    "        viz.line([loss.item()], [global_step], win='train_loss', update='append')\n",
    "        \n",
    "    print(epoch, 'loss:', loss.item())\n",
    "    \n",
    "    model.eval()\n",
    "    with torch.no_grad():\n",
    "        total_correct = 0\n",
    "        test_loss = 0\n",
    "        for batch_idx, (data, target) in enumerate(test_loader):\n",
    "            data, target = data.to(device), target.to(device)\n",
    "            #run\n",
    "            logits = model(data)\n",
    "            loss = criterion(logits, target).item()\n",
    "            test_loss += loss\n",
    "            pred = logits.argmax(dim=1)\n",
    "            #\n",
    "            correct = torch.eq(pred, target).sum().item()\n",
    "            total_correct += correct\n",
    "        \n",
    "        acc = total_correct / len(test_loader.dataset)\n",
    "        \n",
    "        viz.line([test_loss], [global_step], win='test_loss', update='append')\n",
    "        viz.line([acc], [global_step], win='test_acc', update='append')    \n",
    "        \n",
    "        print(epoch, \"acc: \", acc)"
   ]
  },
  {
   "attachments": {
    "image.png": {
     "image/png": "[encoded data removed]"
    }
   },
   "cell_type": "markdown",
   "metadata": {},
   "source": [
    "![image.png](attachment:image.png)"
   ]
  },
  {
   "cell_type": "code",
   "execution_count": null,
   "metadata": {},
   "outputs": [],
   "source": []
  }
 ],
 "metadata": {
  "kernelspec": {
   "display_name": "Python 3",
   "language": "python",
   "name": "python3"
  },
  "language_info": {
   "codemirror_mode": {
    "name": "ipython",
    "version": 3
   },
   "file_extension": ".py",
   "mimetype": "text/x-python",
   "name": "python",
   "nbconvert_exporter": "python",
   "pygments_lexer": "ipython3",
   "version": "3.7.3"
  }
 },
 "nbformat": 4,
 "nbformat_minor": 2
}
